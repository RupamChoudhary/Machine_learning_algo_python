{
 "cells": [
  {
   "cell_type": "markdown",
   "id": "8cb563a8",
   "metadata": {},
   "source": [
    "## Business Goal:\n",
    "\n",
    "An international e-commerce company based wants to discover key insights from their customer database. They want to use some\n",
    "of the most advanced machine learning techniques to study their customers. The company sells electronic products.\n",
    "\n",
    "\n",
    "\n",
    "\n",
    "\n",
    "\n",
    "\n",
    "The company wishes to know from this data of shipment Tracking to answer some of questions:\n",
    "\n",
    "•\tWhat was Customer Rating? And was the product delivered on time?\n",
    "\n",
    "•\tIs Customer query is being answered?\n",
    "\n",
    "•\tIf Product importance is high. having highest rating or being delivered on time?"
   ]
  },
  {
   "cell_type": "markdown",
   "id": "99f8ff86",
   "metadata": {},
   "source": [
    "## Data Dictionary :"
   ]
  },
  {
   "cell_type": "markdown",
   "id": "37154e38",
   "metadata": {},
   "source": [
    "## Import Python Libraries:"
   ]
  },
  {
   "cell_type": "code",
   "execution_count": 1,
   "id": "72c538a4",
   "metadata": {},
   "outputs": [],
   "source": [
    "# data analysis and wrangling\n",
    "import pandas as pd\n",
    "import numpy as np\n",
    "\n",
    "# visualization\n",
    "import seaborn as sns\n",
    "import matplotlib.pyplot as plt\n",
    "import matplotlib.style as style\n",
    "%matplotlib inline\n",
    "\n",
    "# Plot Style\n",
    "sns.set_context(\"paper\")\n",
    "style.use('fivethirtyeight')\n",
    "\n",
    "\n",
    "# machine learning\n",
    "from sklearn.linear_model import LogisticRegression\n",
    "from sklearn.svm import SVC, LinearSVC\n",
    "from sklearn.ensemble import RandomForestClassifier ,GradientBoostingClassifier\n",
    "from sklearn.neighbors import KNeighborsClassifier\n",
    "from xgboost import XGBClassifier\n",
    "\n",
    "# Suppress Warnings:\n",
    "import warnings\n",
    "warnings.filterwarnings('ignore')"
   ]
  },
  {
   "cell_type": "markdown",
   "id": "2460e9b3",
   "metadata": {},
   "source": [
    "# Reading & Understanding the data"
   ]
  },
  {
   "cell_type": "markdown",
   "id": "d340eb51",
   "metadata": {},
   "source": [
    "### Importing the Input file"
   ]
  },
  {
   "cell_type": "code",
   "execution_count": 2,
   "id": "9650c1be",
   "metadata": {
    "scrolled": false
   },
   "outputs": [
    {
     "data": {
      "text/html": [
       "<div>\n",
       "<style scoped>\n",
       "    .dataframe tbody tr th:only-of-type {\n",
       "        vertical-align: middle;\n",
       "    }\n",
       "\n",
       "    .dataframe tbody tr th {\n",
       "        vertical-align: top;\n",
       "    }\n",
       "\n",
       "    .dataframe thead th {\n",
       "        text-align: right;\n",
       "    }\n",
       "</style>\n",
       "<table border=\"1\" class=\"dataframe\">\n",
       "  <thead>\n",
       "    <tr style=\"text-align: right;\">\n",
       "      <th></th>\n",
       "      <th>ID</th>\n",
       "      <th>Warehouse_block</th>\n",
       "      <th>Mode_of_Shipment</th>\n",
       "      <th>Customer_care_calls</th>\n",
       "      <th>Customer_rating</th>\n",
       "      <th>Cost_of_the_Product</th>\n",
       "      <th>Prior_purchases</th>\n",
       "      <th>Product_importance</th>\n",
       "      <th>Gender</th>\n",
       "      <th>Discount_offered</th>\n",
       "      <th>Weight_in_gms</th>\n",
       "      <th>Reached.on.Time_Y.N</th>\n",
       "    </tr>\n",
       "  </thead>\n",
       "  <tbody>\n",
       "    <tr>\n",
       "      <th>0</th>\n",
       "      <td>1</td>\n",
       "      <td>D</td>\n",
       "      <td>Flight</td>\n",
       "      <td>4</td>\n",
       "      <td>2</td>\n",
       "      <td>177</td>\n",
       "      <td>3</td>\n",
       "      <td>low</td>\n",
       "      <td>F</td>\n",
       "      <td>44</td>\n",
       "      <td>1233</td>\n",
       "      <td>1</td>\n",
       "    </tr>\n",
       "    <tr>\n",
       "      <th>1</th>\n",
       "      <td>2</td>\n",
       "      <td>F</td>\n",
       "      <td>Flight</td>\n",
       "      <td>4</td>\n",
       "      <td>5</td>\n",
       "      <td>216</td>\n",
       "      <td>2</td>\n",
       "      <td>low</td>\n",
       "      <td>M</td>\n",
       "      <td>59</td>\n",
       "      <td>3088</td>\n",
       "      <td>1</td>\n",
       "    </tr>\n",
       "    <tr>\n",
       "      <th>2</th>\n",
       "      <td>3</td>\n",
       "      <td>A</td>\n",
       "      <td>Flight</td>\n",
       "      <td>2</td>\n",
       "      <td>2</td>\n",
       "      <td>183</td>\n",
       "      <td>4</td>\n",
       "      <td>low</td>\n",
       "      <td>M</td>\n",
       "      <td>48</td>\n",
       "      <td>3374</td>\n",
       "      <td>1</td>\n",
       "    </tr>\n",
       "    <tr>\n",
       "      <th>3</th>\n",
       "      <td>4</td>\n",
       "      <td>B</td>\n",
       "      <td>Flight</td>\n",
       "      <td>3</td>\n",
       "      <td>3</td>\n",
       "      <td>176</td>\n",
       "      <td>4</td>\n",
       "      <td>medium</td>\n",
       "      <td>M</td>\n",
       "      <td>10</td>\n",
       "      <td>1177</td>\n",
       "      <td>1</td>\n",
       "    </tr>\n",
       "    <tr>\n",
       "      <th>4</th>\n",
       "      <td>5</td>\n",
       "      <td>C</td>\n",
       "      <td>Flight</td>\n",
       "      <td>2</td>\n",
       "      <td>2</td>\n",
       "      <td>184</td>\n",
       "      <td>3</td>\n",
       "      <td>medium</td>\n",
       "      <td>F</td>\n",
       "      <td>46</td>\n",
       "      <td>2484</td>\n",
       "      <td>1</td>\n",
       "    </tr>\n",
       "    <tr>\n",
       "      <th>...</th>\n",
       "      <td>...</td>\n",
       "      <td>...</td>\n",
       "      <td>...</td>\n",
       "      <td>...</td>\n",
       "      <td>...</td>\n",
       "      <td>...</td>\n",
       "      <td>...</td>\n",
       "      <td>...</td>\n",
       "      <td>...</td>\n",
       "      <td>...</td>\n",
       "      <td>...</td>\n",
       "      <td>...</td>\n",
       "    </tr>\n",
       "    <tr>\n",
       "      <th>10994</th>\n",
       "      <td>10995</td>\n",
       "      <td>A</td>\n",
       "      <td>Ship</td>\n",
       "      <td>4</td>\n",
       "      <td>1</td>\n",
       "      <td>252</td>\n",
       "      <td>5</td>\n",
       "      <td>medium</td>\n",
       "      <td>F</td>\n",
       "      <td>1</td>\n",
       "      <td>1538</td>\n",
       "      <td>1</td>\n",
       "    </tr>\n",
       "    <tr>\n",
       "      <th>10995</th>\n",
       "      <td>10996</td>\n",
       "      <td>B</td>\n",
       "      <td>Ship</td>\n",
       "      <td>4</td>\n",
       "      <td>1</td>\n",
       "      <td>232</td>\n",
       "      <td>5</td>\n",
       "      <td>medium</td>\n",
       "      <td>F</td>\n",
       "      <td>6</td>\n",
       "      <td>1247</td>\n",
       "      <td>0</td>\n",
       "    </tr>\n",
       "    <tr>\n",
       "      <th>10996</th>\n",
       "      <td>10997</td>\n",
       "      <td>C</td>\n",
       "      <td>Ship</td>\n",
       "      <td>5</td>\n",
       "      <td>4</td>\n",
       "      <td>242</td>\n",
       "      <td>5</td>\n",
       "      <td>low</td>\n",
       "      <td>F</td>\n",
       "      <td>4</td>\n",
       "      <td>1155</td>\n",
       "      <td>0</td>\n",
       "    </tr>\n",
       "    <tr>\n",
       "      <th>10997</th>\n",
       "      <td>10998</td>\n",
       "      <td>F</td>\n",
       "      <td>Ship</td>\n",
       "      <td>5</td>\n",
       "      <td>2</td>\n",
       "      <td>223</td>\n",
       "      <td>6</td>\n",
       "      <td>medium</td>\n",
       "      <td>M</td>\n",
       "      <td>2</td>\n",
       "      <td>1210</td>\n",
       "      <td>0</td>\n",
       "    </tr>\n",
       "    <tr>\n",
       "      <th>10998</th>\n",
       "      <td>10999</td>\n",
       "      <td>D</td>\n",
       "      <td>Ship</td>\n",
       "      <td>2</td>\n",
       "      <td>5</td>\n",
       "      <td>155</td>\n",
       "      <td>5</td>\n",
       "      <td>low</td>\n",
       "      <td>F</td>\n",
       "      <td>6</td>\n",
       "      <td>1639</td>\n",
       "      <td>0</td>\n",
       "    </tr>\n",
       "  </tbody>\n",
       "</table>\n",
       "<p>10999 rows × 12 columns</p>\n",
       "</div>"
      ],
      "text/plain": [
       "          ID Warehouse_block Mode_of_Shipment  Customer_care_calls  \\\n",
       "0          1               D           Flight                    4   \n",
       "1          2               F           Flight                    4   \n",
       "2          3               A           Flight                    2   \n",
       "3          4               B           Flight                    3   \n",
       "4          5               C           Flight                    2   \n",
       "...      ...             ...              ...                  ...   \n",
       "10994  10995               A             Ship                    4   \n",
       "10995  10996               B             Ship                    4   \n",
       "10996  10997               C             Ship                    5   \n",
       "10997  10998               F             Ship                    5   \n",
       "10998  10999               D             Ship                    2   \n",
       "\n",
       "       Customer_rating  Cost_of_the_Product  Prior_purchases  \\\n",
       "0                    2                  177                3   \n",
       "1                    5                  216                2   \n",
       "2                    2                  183                4   \n",
       "3                    3                  176                4   \n",
       "4                    2                  184                3   \n",
       "...                ...                  ...              ...   \n",
       "10994                1                  252                5   \n",
       "10995                1                  232                5   \n",
       "10996                4                  242                5   \n",
       "10997                2                  223                6   \n",
       "10998                5                  155                5   \n",
       "\n",
       "      Product_importance Gender  Discount_offered  Weight_in_gms  \\\n",
       "0                    low      F                44           1233   \n",
       "1                    low      M                59           3088   \n",
       "2                    low      M                48           3374   \n",
       "3                 medium      M                10           1177   \n",
       "4                 medium      F                46           2484   \n",
       "...                  ...    ...               ...            ...   \n",
       "10994             medium      F                 1           1538   \n",
       "10995             medium      F                 6           1247   \n",
       "10996                low      F                 4           1155   \n",
       "10997             medium      M                 2           1210   \n",
       "10998                low      F                 6           1639   \n",
       "\n",
       "       Reached.on.Time_Y.N  \n",
       "0                        1  \n",
       "1                        1  \n",
       "2                        1  \n",
       "3                        1  \n",
       "4                        1  \n",
       "...                    ...  \n",
       "10994                    1  \n",
       "10995                    0  \n",
       "10996                    0  \n",
       "10997                    0  \n",
       "10998                    0  \n",
       "\n",
       "[10999 rows x 12 columns]"
      ]
     },
     "execution_count": 2,
     "metadata": {},
     "output_type": "execute_result"
    }
   ],
   "source": [
    "Df = pd.read_csv('train.csv')\n",
    "Df"
   ]
  },
  {
   "cell_type": "markdown",
   "id": "8a876990",
   "metadata": {},
   "source": [
    "## Inspect Dataframe"
   ]
  },
  {
   "cell_type": "code",
   "execution_count": 3,
   "id": "4fea73d3",
   "metadata": {},
   "outputs": [
    {
     "name": "stdout",
     "output_type": "stream",
     "text": [
      "Database dimension     : (10999, 12)\n",
      "Database size          : 131988\n",
      "Number of Row          : 10999\n",
      "Number of Columns      : 12\n"
     ]
    }
   ],
   "source": [
    "#database dimension\n",
    "\n",
    "print(\"Database dimension     :\",Df.shape)\n",
    "print(\"Database size          :\",Df.size)\n",
    "print(\"Number of Row          :\",len(Df.index))\n",
    "print(\"Number of Columns      :\",len(Df.columns))"
   ]
  },
  {
   "cell_type": "code",
   "execution_count": 4,
   "id": "6c6b687c",
   "metadata": {
    "scrolled": true
   },
   "outputs": [
    {
     "data": {
      "text/html": [
       "<div>\n",
       "<style scoped>\n",
       "    .dataframe tbody tr th:only-of-type {\n",
       "        vertical-align: middle;\n",
       "    }\n",
       "\n",
       "    .dataframe tbody tr th {\n",
       "        vertical-align: top;\n",
       "    }\n",
       "\n",
       "    .dataframe thead th {\n",
       "        text-align: right;\n",
       "    }\n",
       "</style>\n",
       "<table border=\"1\" class=\"dataframe\">\n",
       "  <thead>\n",
       "    <tr style=\"text-align: right;\">\n",
       "      <th></th>\n",
       "      <th>ID</th>\n",
       "      <th>Customer_care_calls</th>\n",
       "      <th>Customer_rating</th>\n",
       "      <th>Cost_of_the_Product</th>\n",
       "      <th>Prior_purchases</th>\n",
       "      <th>Discount_offered</th>\n",
       "      <th>Weight_in_gms</th>\n",
       "      <th>Reached.on.Time_Y.N</th>\n",
       "    </tr>\n",
       "  </thead>\n",
       "  <tbody>\n",
       "    <tr>\n",
       "      <th>count</th>\n",
       "      <td>10999.00000</td>\n",
       "      <td>10999.000000</td>\n",
       "      <td>10999.000000</td>\n",
       "      <td>10999.000000</td>\n",
       "      <td>10999.000000</td>\n",
       "      <td>10999.000000</td>\n",
       "      <td>10999.000000</td>\n",
       "      <td>10999.000000</td>\n",
       "    </tr>\n",
       "    <tr>\n",
       "      <th>mean</th>\n",
       "      <td>5500.00000</td>\n",
       "      <td>4.054459</td>\n",
       "      <td>2.990545</td>\n",
       "      <td>210.196836</td>\n",
       "      <td>3.567597</td>\n",
       "      <td>13.373216</td>\n",
       "      <td>3634.016729</td>\n",
       "      <td>0.596691</td>\n",
       "    </tr>\n",
       "    <tr>\n",
       "      <th>std</th>\n",
       "      <td>3175.28214</td>\n",
       "      <td>1.141490</td>\n",
       "      <td>1.413603</td>\n",
       "      <td>48.063272</td>\n",
       "      <td>1.522860</td>\n",
       "      <td>16.205527</td>\n",
       "      <td>1635.377251</td>\n",
       "      <td>0.490584</td>\n",
       "    </tr>\n",
       "    <tr>\n",
       "      <th>min</th>\n",
       "      <td>1.00000</td>\n",
       "      <td>2.000000</td>\n",
       "      <td>1.000000</td>\n",
       "      <td>96.000000</td>\n",
       "      <td>2.000000</td>\n",
       "      <td>1.000000</td>\n",
       "      <td>1001.000000</td>\n",
       "      <td>0.000000</td>\n",
       "    </tr>\n",
       "    <tr>\n",
       "      <th>25%</th>\n",
       "      <td>2750.50000</td>\n",
       "      <td>3.000000</td>\n",
       "      <td>2.000000</td>\n",
       "      <td>169.000000</td>\n",
       "      <td>3.000000</td>\n",
       "      <td>4.000000</td>\n",
       "      <td>1839.500000</td>\n",
       "      <td>0.000000</td>\n",
       "    </tr>\n",
       "    <tr>\n",
       "      <th>50%</th>\n",
       "      <td>5500.00000</td>\n",
       "      <td>4.000000</td>\n",
       "      <td>3.000000</td>\n",
       "      <td>214.000000</td>\n",
       "      <td>3.000000</td>\n",
       "      <td>7.000000</td>\n",
       "      <td>4149.000000</td>\n",
       "      <td>1.000000</td>\n",
       "    </tr>\n",
       "    <tr>\n",
       "      <th>75%</th>\n",
       "      <td>8249.50000</td>\n",
       "      <td>5.000000</td>\n",
       "      <td>4.000000</td>\n",
       "      <td>251.000000</td>\n",
       "      <td>4.000000</td>\n",
       "      <td>10.000000</td>\n",
       "      <td>5050.000000</td>\n",
       "      <td>1.000000</td>\n",
       "    </tr>\n",
       "    <tr>\n",
       "      <th>max</th>\n",
       "      <td>10999.00000</td>\n",
       "      <td>7.000000</td>\n",
       "      <td>5.000000</td>\n",
       "      <td>310.000000</td>\n",
       "      <td>10.000000</td>\n",
       "      <td>65.000000</td>\n",
       "      <td>7846.000000</td>\n",
       "      <td>1.000000</td>\n",
       "    </tr>\n",
       "  </tbody>\n",
       "</table>\n",
       "</div>"
      ],
      "text/plain": [
       "                ID  Customer_care_calls  Customer_rating  Cost_of_the_Product  \\\n",
       "count  10999.00000         10999.000000     10999.000000         10999.000000   \n",
       "mean    5500.00000             4.054459         2.990545           210.196836   \n",
       "std     3175.28214             1.141490         1.413603            48.063272   \n",
       "min        1.00000             2.000000         1.000000            96.000000   \n",
       "25%     2750.50000             3.000000         2.000000           169.000000   \n",
       "50%     5500.00000             4.000000         3.000000           214.000000   \n",
       "75%     8249.50000             5.000000         4.000000           251.000000   \n",
       "max    10999.00000             7.000000         5.000000           310.000000   \n",
       "\n",
       "       Prior_purchases  Discount_offered  Weight_in_gms  Reached.on.Time_Y.N  \n",
       "count     10999.000000      10999.000000   10999.000000         10999.000000  \n",
       "mean          3.567597         13.373216    3634.016729             0.596691  \n",
       "std           1.522860         16.205527    1635.377251             0.490584  \n",
       "min           2.000000          1.000000    1001.000000             0.000000  \n",
       "25%           3.000000          4.000000    1839.500000             0.000000  \n",
       "50%           3.000000          7.000000    4149.000000             1.000000  \n",
       "75%           4.000000         10.000000    5050.000000             1.000000  \n",
       "max          10.000000         65.000000    7846.000000             1.000000  "
      ]
     },
     "execution_count": 4,
     "metadata": {},
     "output_type": "execute_result"
    }
   ],
   "source": [
    "#checking numerical columns statistics\n",
    "Df.describe()"
   ]
  },
  {
   "cell_type": "code",
   "execution_count": 5,
   "id": "dbee381e",
   "metadata": {
    "scrolled": true
   },
   "outputs": [
    {
     "name": "stdout",
     "output_type": "stream",
     "text": [
      "<class 'pandas.core.frame.DataFrame'>\n",
      "RangeIndex: 10999 entries, 0 to 10998\n",
      "Data columns (total 12 columns):\n",
      " #   Column               Non-Null Count  Dtype \n",
      "---  ------               --------------  ----- \n",
      " 0   ID                   10999 non-null  int64 \n",
      " 1   Warehouse_block      10999 non-null  object\n",
      " 2   Mode_of_Shipment     10999 non-null  object\n",
      " 3   Customer_care_calls  10999 non-null  int64 \n",
      " 4   Customer_rating      10999 non-null  int64 \n",
      " 5   Cost_of_the_Product  10999 non-null  int64 \n",
      " 6   Prior_purchases      10999 non-null  int64 \n",
      " 7   Product_importance   10999 non-null  object\n",
      " 8   Gender               10999 non-null  object\n",
      " 9   Discount_offered     10999 non-null  int64 \n",
      " 10  Weight_in_gms        10999 non-null  int64 \n",
      " 11  Reached.on.Time_Y.N  10999 non-null  int64 \n",
      "dtypes: int64(8), object(4)\n",
      "memory usage: 1.0+ MB\n"
     ]
    }
   ],
   "source": [
    "#info about the column types etc. \n",
    "Df.info()"
   ]
  },
  {
   "cell_type": "markdown",
   "id": "2d80eee4",
   "metadata": {},
   "source": [
    "### Insight:\n",
    "The data types of the columns are integer and object type. We can see there are no null values in the column.\n",
    "so no need to inspect the null values."
   ]
  },
  {
   "cell_type": "markdown",
   "id": "2bc27c59",
   "metadata": {},
   "source": [
    "## Duplicate Analysis"
   ]
  },
  {
   "cell_type": "code",
   "execution_count": 6,
   "id": "16f5d0d2",
   "metadata": {
    "scrolled": false
   },
   "outputs": [
    {
     "name": "stdout",
     "output_type": "stream",
     "text": [
      "Total number of duplicate values in ID column : 0\n"
     ]
    }
   ],
   "source": [
    "print(\"Total number of duplicate values in ID column :\" , Df.duplicated(subset = 'ID').sum())"
   ]
  },
  {
   "cell_type": "markdown",
   "id": "e12fd3c0",
   "metadata": {},
   "source": [
    "### Insight:\n",
    "The ID are unique column and hence I wont need its for prediction"
   ]
  },
  {
   "cell_type": "markdown",
   "id": "fb729b07",
   "metadata": {},
   "source": [
    "## Data Cleaning"
   ]
  },
  {
   "cell_type": "markdown",
   "id": "8efbe76a",
   "metadata": {},
   "source": [
    "###### Clearly ID are the variable that are just indicative of the ID number of the customer & can be dropped."
   ]
  },
  {
   "cell_type": "code",
   "execution_count": 7,
   "id": "86706773",
   "metadata": {},
   "outputs": [
    {
     "data": {
      "text/plain": [
       "11"
      ]
     },
     "execution_count": 7,
     "metadata": {},
     "output_type": "execute_result"
    }
   ],
   "source": [
    "#dropping unnecessary columns\n",
    "Df.drop(columns='ID',inplace=True)\n",
    "len(Df.columns)"
   ]
  },
  {
   "cell_type": "code",
   "execution_count": 8,
   "id": "f15970e7",
   "metadata": {},
   "outputs": [
    {
     "data": {
      "text/plain": [
       "Index(['Warehouse_block', 'Mode_of_Shipment', 'Customer_care_calls',\n",
       "       'Customer_rating', 'Cost_of_the_Product', 'Prior_purchases',\n",
       "       'Product_importance', 'Gender', 'Discount_offered', 'Weight_in_gms',\n",
       "       'Reached.on.Time_Y.N'],\n",
       "      dtype='object')"
      ]
     },
     "execution_count": 8,
     "metadata": {},
     "output_type": "execute_result"
    }
   ],
   "source": [
    "Df.columns"
   ]
  },
  {
   "cell_type": "code",
   "execution_count": 9,
   "id": "ab78ea96",
   "metadata": {},
   "outputs": [
    {
     "data": {
      "text/plain": [
       "Index(['WarehouseBlock', 'ShipmentMode', 'CustomerCareCalls', 'CustomerRating',\n",
       "       'ProductCost', 'PriorPurchases', 'ProductImportance', 'Gender',\n",
       "       'Discount', 'Weight(gms)', 'DeliveredonTime'],\n",
       "      dtype='object')"
      ]
     },
     "execution_count": 9,
     "metadata": {},
     "output_type": "execute_result"
    }
   ],
   "source": [
    "# Renaming some of the column headers which has long header\n",
    "\n",
    "Df.rename(columns={'Customer_care_calls':'CustomerCareCalls','Customer_rating':'CustomerRating',\n",
    "           'Warehouse_block':'WarehouseBlock', 'Mode_of_Shipment':'ShipmentMode',\n",
    "            'Cost_of_the_Product':'ProductCost','Prior_purchases':'PriorPurchases',\n",
    "            'Product_importance':'ProductImportance','Discount_offered':'Discount',\n",
    "             'Weight_in_gms':'Weight(gms)','Reached.on.Time_Y.N':'DeliveredonTime'}, inplace = True)   \n",
    "Df.columns"
   ]
  },
  {
   "cell_type": "code",
   "execution_count": 10,
   "id": "68cf0733",
   "metadata": {},
   "outputs": [
    {
     "name": "stdout",
     "output_type": "stream",
     "text": [
      "CATEGORICAL FEATURES : \n",
      " ['WarehouseBlock' 'ShipmentMode' 'ProductImportance' 'Gender'] \n",
      "\n",
      "\n",
      "NUMERICAL FEATURES : \n",
      " ['CustomerCareCalls' 'CustomerRating' 'ProductCost' 'PriorPurchases'\n",
      " 'Discount' 'Weight(gms)' 'DeliveredonTime'] \n"
     ]
    }
   ],
   "source": [
    "categorical_col = Df.select_dtypes(exclude =[\"number\"]).columns.values\n",
    "numerical_col = Df.select_dtypes(include =[\"number\"]).columns.values\n",
    "print(\"CATEGORICAL FEATURES : \\n {} \\n\\n\".format(categorical_col))\n",
    "print(\"NUMERICAL FEATURES : \\n {} \".format(numerical_col))"
   ]
  },
  {
   "cell_type": "markdown",
   "id": "80586a3f",
   "metadata": {},
   "source": [
    "### Warehouse Block"
   ]
  },
  {
   "cell_type": "code",
   "execution_count": 11,
   "id": "f5cefb5a",
   "metadata": {
    "scrolled": false
   },
   "outputs": [
    {
     "data": {
      "text/plain": [
       "F    33.330303\n",
       "D    16.674243\n",
       "A    16.665151\n",
       "B    16.665151\n",
       "C    16.665151\n",
       "Name: WarehouseBlock, dtype: float64"
      ]
     },
     "execution_count": 11,
     "metadata": {},
     "output_type": "execute_result"
    }
   ],
   "source": [
    "Df.WarehouseBlock.value_counts(normalize=True)*100"
   ]
  },
  {
   "cell_type": "code",
   "execution_count": 12,
   "id": "fe247b0a",
   "metadata": {},
   "outputs": [
    {
     "data": {
      "image/png": "[encoded data removed]",
      "text/plain": [
       "<Figure size 720x576 with 1 Axes>"
      ]
     },
     "metadata": {},
     "output_type": "display_data"
    }
   ],
   "source": [
    "#style.use('fivethirtyeight')\n",
    "plt.figure(figsize=(10, 8))\n",
    "sns.countplot(Df['WarehouseBlock'],palette = 'Set2')\n",
    "plt.title('WarehouseBlock')\n",
    "plt.show()"
   ]
  },
  {
   "cell_type": "markdown",
   "id": "39c21e36",
   "metadata": {},
   "source": [
    "### Insights:\n",
    "As we can see that the F Block has stored 33% products which is highest value among other block."
   ]
  },
  {
   "cell_type": "markdown",
   "id": "aa303c8b",
   "metadata": {},
   "source": [
    "### Shipment Mode"
   ]
  },
  {
   "cell_type": "code",
   "execution_count": 13,
   "id": "585e60ec",
   "metadata": {},
   "outputs": [
    {
     "data": {
      "text/plain": [
       "Ship      67.842531\n",
       "Flight    16.156014\n",
       "Road      16.001455\n",
       "Name: ShipmentMode, dtype: float64"
      ]
     },
     "execution_count": 13,
     "metadata": {},
     "output_type": "execute_result"
    }
   ],
   "source": [
    "Df.ShipmentMode.value_counts(normalize=True)*100"
   ]
  },
  {
   "cell_type": "code",
   "execution_count": 14,
   "id": "b079fcf3",
   "metadata": {},
   "outputs": [
    {
     "data": {
      "image/png": "[encoded data removed]",
      "text/plain": [
       "<Figure size 720x576 with 1 Axes>"
      ]
     },
     "metadata": {},
     "output_type": "display_data"
    }
   ],
   "source": [
    "plt.figure(figsize=(10, 8))\n",
    "sns.countplot(Df['ShipmentMode'],palette = 'Set2')\n",
    "plt.title('ShipmentMode')\n",
    "plt.show()"
   ]
  },
  {
   "cell_type": "markdown",
   "id": "a58abb3d",
   "metadata": {},
   "source": [
    "### Insights:\n",
    "Shipment data is heavily counted 67% of products shipped through ship which is high among other shipment Mode Flight or road."
   ]
  },
  {
   "cell_type": "markdown",
   "id": "ea6b9169",
   "metadata": {},
   "source": [
    "### CustomerRating"
   ]
  },
  {
   "cell_type": "code",
   "execution_count": 15,
   "id": "035fde8b",
   "metadata": {},
   "outputs": [
    {
     "data": {
      "text/plain": [
       "3    20.356396\n",
       "1    20.320029\n",
       "4    19.901809\n",
       "5    19.738158\n",
       "2    19.683608\n",
       "Name: CustomerRating, dtype: float64"
      ]
     },
     "execution_count": 15,
     "metadata": {},
     "output_type": "execute_result"
    }
   ],
   "source": [
    "Df.CustomerRating.value_counts(normalize=True)*100"
   ]
  },
  {
   "cell_type": "code",
   "execution_count": 16,
   "id": "b6fad4be",
   "metadata": {
    "scrolled": true
   },
   "outputs": [
    {
     "data": {
      "image/png": "[encoded data removed]",
      "text/plain": [
       "<Figure size 720x576 with 1 Axes>"
      ]
     },
     "metadata": {},
     "output_type": "display_data"
    }
   ],
   "source": [
    "plt.figure(figsize=(10, 8))\n",
    "sns.countplot(Df['CustomerRating'],palette = 'Set2')\n",
    "plt.title('CustomerRating')\n",
    "plt.show()"
   ]
  },
  {
   "cell_type": "code",
   "execution_count": null,
   "id": "8cbf8721",
   "metadata": {},
   "outputs": [],
   "source": []
  },
  {
   "cell_type": "markdown",
   "id": "9d4b91df",
   "metadata": {},
   "source": [
    "### CustomerCareCalls"
   ]
  },
  {
   "cell_type": "code",
   "execution_count": 17,
   "id": "ab566551",
   "metadata": {},
   "outputs": [
    {
     "data": {
      "text/plain": [
       "4    32.339304\n",
       "3    29.248113\n",
       "5    21.165561\n",
       "6     9.209928\n",
       "2     5.800527\n",
       "7     2.236567\n",
       "Name: CustomerCareCalls, dtype: float64"
      ]
     },
     "execution_count": 17,
     "metadata": {},
     "output_type": "execute_result"
    }
   ],
   "source": [
    "Df.CustomerCareCalls.value_counts(normalize=True)*100"
   ]
  },
  {
   "cell_type": "code",
   "execution_count": 18,
   "id": "6cdc0402",
   "metadata": {},
   "outputs": [
    {
     "data": {
      "image/png": "[encoded data removed]",
      "text/plain": [
       "<Figure size 720x576 with 1 Axes>"
      ]
     },
     "metadata": {},
     "output_type": "display_data"
    }
   ],
   "source": [
    "plt.figure(figsize=(10, 8))\n",
    "sns.countplot(Df['CustomerCareCalls'],palette = 'Set2')\n",
    "plt.title('CustomerCareCalls')\n",
    "plt.show()"
   ]
  },
  {
   "cell_type": "markdown",
   "id": "a330385d",
   "metadata": {},
   "source": [
    "### Insights:\n",
    "The  number of calls 4 has seems to be most used as Customer Care Calls by customers and least number of calls are 7 that\n",
    "was made by customers."
   ]
  },
  {
   "cell_type": "markdown",
   "id": "715ad9cc",
   "metadata": {},
   "source": [
    "# Exploratory Data Analysis"
   ]
  },
  {
   "cell_type": "markdown",
   "id": "9e433bcc",
   "metadata": {},
   "source": [
    "## Data Imbalance"
   ]
  },
  {
   "cell_type": "markdown",
   "id": "09513964",
   "metadata": {},
   "source": [
    "### Delivered onTime"
   ]
  },
  {
   "cell_type": "code",
   "execution_count": 19,
   "id": "a99524c3",
   "metadata": {},
   "outputs": [
    {
     "data": {
      "text/html": [
       "<div>\n",
       "<style scoped>\n",
       "    .dataframe tbody tr th:only-of-type {\n",
       "        vertical-align: middle;\n",
       "    }\n",
       "\n",
       "    .dataframe tbody tr th {\n",
       "        vertical-align: top;\n",
       "    }\n",
       "\n",
       "    .dataframe thead th {\n",
       "        text-align: right;\n",
       "    }\n",
       "</style>\n",
       "<table border=\"1\" class=\"dataframe\">\n",
       "  <thead>\n",
       "    <tr style=\"text-align: right;\">\n",
       "      <th></th>\n",
       "      <th>counts</th>\n",
       "    </tr>\n",
       "    <tr>\n",
       "      <th>unique_values</th>\n",
       "      <th></th>\n",
       "    </tr>\n",
       "  </thead>\n",
       "  <tbody>\n",
       "    <tr>\n",
       "      <th>1</th>\n",
       "      <td>6563</td>\n",
       "    </tr>\n",
       "    <tr>\n",
       "      <th>0</th>\n",
       "      <td>4436</td>\n",
       "    </tr>\n",
       "  </tbody>\n",
       "</table>\n",
       "</div>"
      ],
      "text/plain": [
       "               counts\n",
       "unique_values        \n",
       "1                6563\n",
       "0                4436"
      ]
     },
     "execution_count": 19,
     "metadata": {},
     "output_type": "execute_result"
    }
   ],
   "source": [
    "# 0 for delivered on time and 1 for not delivered on time\n",
    "\n",
    "DeliveredonTime = Df['DeliveredonTime'].value_counts().rename_axis('unique_values').to_frame('counts')\n",
    "DeliveredonTime"
   ]
  },
  {
   "cell_type": "code",
   "execution_count": 20,
   "id": "9b7e0822",
   "metadata": {},
   "outputs": [
    {
     "data": {
      "image/png": "[encoded data removed]",
      "text/plain": [
       "<Figure size 432x288 with 1 Axes>"
      ]
     },
     "metadata": {},
     "output_type": "display_data"
    }
   ],
   "source": [
    "my_circle=plt.Circle( (0,0), 0.7, color='white')\n",
    "plt.pie(DeliveredonTime.counts, labels = ['No','Yes'],colors = ['red','green'],autopct='%1.1f%%')\n",
    "p=plt.gcf()\n",
    "p.gca().add_artist(my_circle)\n",
    "plt.show()"
   ]
  },
  {
   "cell_type": "markdown",
   "id": "605b7c1b",
   "metadata": {},
   "source": [
    "### Insight:\n",
    "In the DeliveredonTime column , 40.3% has delivered on time where as 59.7% did not delivered on time.\n",
    "So it seems like a balanced dataset.\n",
    "\n"
   ]
  },
  {
   "cell_type": "markdown",
   "id": "b577d074",
   "metadata": {},
   "source": [
    "# Bivariate Analysis"
   ]
  },
  {
   "cell_type": "markdown",
   "id": "1b8cfe03",
   "metadata": {},
   "source": [
    "### CustomerRating & Delivered onTime"
   ]
  },
  {
   "cell_type": "code",
   "execution_count": 21,
   "id": "9b77bf8d",
   "metadata": {},
   "outputs": [
    {
     "data": {
      "text/html": [
       "<div>\n",
       "<style scoped>\n",
       "    .dataframe tbody tr th:only-of-type {\n",
       "        vertical-align: middle;\n",
       "    }\n",
       "\n",
       "    .dataframe tbody tr th {\n",
       "        vertical-align: top;\n",
       "    }\n",
       "\n",
       "    .dataframe thead th {\n",
       "        text-align: right;\n",
       "    }\n",
       "</style>\n",
       "<table border=\"1\" class=\"dataframe\">\n",
       "  <thead>\n",
       "    <tr style=\"text-align: right;\">\n",
       "      <th>DeliveredonTime</th>\n",
       "      <th>0</th>\n",
       "      <th>1</th>\n",
       "      <th>Total</th>\n",
       "    </tr>\n",
       "    <tr>\n",
       "      <th>CustomerRating</th>\n",
       "      <th></th>\n",
       "      <th></th>\n",
       "      <th></th>\n",
       "    </tr>\n",
       "  </thead>\n",
       "  <tbody>\n",
       "    <tr>\n",
       "      <th>1</th>\n",
       "      <td>922</td>\n",
       "      <td>1313</td>\n",
       "      <td>2235</td>\n",
       "    </tr>\n",
       "    <tr>\n",
       "      <th>2</th>\n",
       "      <td>892</td>\n",
       "      <td>1273</td>\n",
       "      <td>2165</td>\n",
       "    </tr>\n",
       "    <tr>\n",
       "      <th>3</th>\n",
       "      <td>882</td>\n",
       "      <td>1357</td>\n",
       "      <td>2239</td>\n",
       "    </tr>\n",
       "    <tr>\n",
       "      <th>4</th>\n",
       "      <td>886</td>\n",
       "      <td>1303</td>\n",
       "      <td>2189</td>\n",
       "    </tr>\n",
       "    <tr>\n",
       "      <th>5</th>\n",
       "      <td>854</td>\n",
       "      <td>1317</td>\n",
       "      <td>2171</td>\n",
       "    </tr>\n",
       "    <tr>\n",
       "      <th>Total</th>\n",
       "      <td>4436</td>\n",
       "      <td>6563</td>\n",
       "      <td>10999</td>\n",
       "    </tr>\n",
       "  </tbody>\n",
       "</table>\n",
       "</div>"
      ],
      "text/plain": [
       "DeliveredonTime     0     1  Total\n",
       "CustomerRating                    \n",
       "1                 922  1313   2235\n",
       "2                 892  1273   2165\n",
       "3                 882  1357   2239\n",
       "4                 886  1303   2189\n",
       "5                 854  1317   2171\n",
       "Total            4436  6563  10999"
      ]
     },
     "execution_count": 21,
     "metadata": {},
     "output_type": "execute_result"
    }
   ],
   "source": [
    "pd.crosstab(Df['CustomerRating'],Df['DeliveredonTime'],margins=True, margins_name='Total')"
   ]
  },
  {
   "cell_type": "code",
   "execution_count": 22,
   "id": "041ee9ab",
   "metadata": {},
   "outputs": [
    {
     "data": {
      "text/plain": [
       "Text(0.5, 1.0, 'CustomerRating')"
      ]
     },
     "execution_count": 22,
     "metadata": {},
     "output_type": "execute_result"
    },
    {
     "data": {
      "image/png": "[encoded data removed]",
      "text/plain": [
       "<Figure size 1080x576 with 2 Axes>"
      ]
     },
     "metadata": {},
     "output_type": "display_data"
    }
   ],
   "source": [
    "plt.figure(figsize=(15, 8))\n",
    "plt.subplot(1, 2, 1)\n",
    "sns.countplot(x='CustomerRating',data=Df,hue= \"DeliveredonTime\", palette='rainbow')\n",
    "plt.title(\"CustomerRating\")\n",
    "\n",
    "plt.subplot(1, 2, 2)\n",
    "sns.countplot(x='CustomerRating',data=Df)\n",
    "plt.title(\"CustomerRating\")\n"
   ]
  },
  {
   "cell_type": "markdown",
   "id": "fed81b18",
   "metadata": {},
   "source": [
    "### Inference:\n",
    "The values of customer Rating column seems balanced in count ,there is no such relatioship \n",
    "betweeen customer Rating or Product delivered on time or not."
   ]
  },
  {
   "cell_type": "markdown",
   "id": "3f5a985c",
   "metadata": {},
   "source": [
    "### CustomerCareCalls & CustomerRating"
   ]
  },
  {
   "cell_type": "code",
   "execution_count": 23,
   "id": "fee3c21b",
   "metadata": {},
   "outputs": [
    {
     "data": {
      "text/html": [
       "<div>\n",
       "<style scoped>\n",
       "    .dataframe tbody tr th:only-of-type {\n",
       "        vertical-align: middle;\n",
       "    }\n",
       "\n",
       "    .dataframe tbody tr th {\n",
       "        vertical-align: top;\n",
       "    }\n",
       "\n",
       "    .dataframe thead th {\n",
       "        text-align: right;\n",
       "    }\n",
       "</style>\n",
       "<table border=\"1\" class=\"dataframe\">\n",
       "  <thead>\n",
       "    <tr style=\"text-align: right;\">\n",
       "      <th>CustomerCareCalls</th>\n",
       "      <th>2</th>\n",
       "      <th>3</th>\n",
       "      <th>4</th>\n",
       "      <th>5</th>\n",
       "      <th>6</th>\n",
       "      <th>7</th>\n",
       "      <th>Total</th>\n",
       "    </tr>\n",
       "    <tr>\n",
       "      <th>CustomerRating</th>\n",
       "      <th></th>\n",
       "      <th></th>\n",
       "      <th></th>\n",
       "      <th></th>\n",
       "      <th></th>\n",
       "      <th></th>\n",
       "      <th></th>\n",
       "    </tr>\n",
       "  </thead>\n",
       "  <tbody>\n",
       "    <tr>\n",
       "      <th>1</th>\n",
       "      <td>130</td>\n",
       "      <td>683</td>\n",
       "      <td>691</td>\n",
       "      <td>491</td>\n",
       "      <td>187</td>\n",
       "      <td>53</td>\n",
       "      <td>2235</td>\n",
       "    </tr>\n",
       "    <tr>\n",
       "      <th>2</th>\n",
       "      <td>124</td>\n",
       "      <td>623</td>\n",
       "      <td>717</td>\n",
       "      <td>471</td>\n",
       "      <td>184</td>\n",
       "      <td>46</td>\n",
       "      <td>2165</td>\n",
       "    </tr>\n",
       "    <tr>\n",
       "      <th>3</th>\n",
       "      <td>125</td>\n",
       "      <td>656</td>\n",
       "      <td>744</td>\n",
       "      <td>446</td>\n",
       "      <td>214</td>\n",
       "      <td>54</td>\n",
       "      <td>2239</td>\n",
       "    </tr>\n",
       "    <tr>\n",
       "      <th>4</th>\n",
       "      <td>123</td>\n",
       "      <td>650</td>\n",
       "      <td>718</td>\n",
       "      <td>450</td>\n",
       "      <td>213</td>\n",
       "      <td>35</td>\n",
       "      <td>2189</td>\n",
       "    </tr>\n",
       "    <tr>\n",
       "      <th>5</th>\n",
       "      <td>136</td>\n",
       "      <td>605</td>\n",
       "      <td>687</td>\n",
       "      <td>470</td>\n",
       "      <td>215</td>\n",
       "      <td>58</td>\n",
       "      <td>2171</td>\n",
       "    </tr>\n",
       "    <tr>\n",
       "      <th>Total</th>\n",
       "      <td>638</td>\n",
       "      <td>3217</td>\n",
       "      <td>3557</td>\n",
       "      <td>2328</td>\n",
       "      <td>1013</td>\n",
       "      <td>246</td>\n",
       "      <td>10999</td>\n",
       "    </tr>\n",
       "  </tbody>\n",
       "</table>\n",
       "</div>"
      ],
      "text/plain": [
       "CustomerCareCalls    2     3     4     5     6    7  Total\n",
       "CustomerRating                                            \n",
       "1                  130   683   691   491   187   53   2235\n",
       "2                  124   623   717   471   184   46   2165\n",
       "3                  125   656   744   446   214   54   2239\n",
       "4                  123   650   718   450   213   35   2189\n",
       "5                  136   605   687   470   215   58   2171\n",
       "Total              638  3217  3557  2328  1013  246  10999"
      ]
     },
     "execution_count": 23,
     "metadata": {},
     "output_type": "execute_result"
    }
   ],
   "source": [
    "pd.crosstab(Df['CustomerRating'],Df['CustomerCareCalls'],margins=True, margins_name='Total')#,normalize=True)*100\n"
   ]
  },
  {
   "cell_type": "code",
   "execution_count": 24,
   "id": "20de9cc1",
   "metadata": {},
   "outputs": [
    {
     "data": {
      "text/plain": [
       "Text(0.5, 1.0, 'CustomerCareCalls')"
      ]
     },
     "execution_count": 24,
     "metadata": {},
     "output_type": "execute_result"
    },
    {
     "data": {
      "image/png": "[encoded data removed]",
      "text/plain": [
       "<Figure size 1080x576 with 2 Axes>"
      ]
     },
     "metadata": {},
     "output_type": "display_data"
    }
   ],
   "source": [
    "plt.figure(figsize=(15, 8))\n",
    "plt.subplot(1, 2, 1)\n",
    "sns.countplot(hue='CustomerCareCalls',x='CustomerRating',data=Df,palette='rainbow')\n",
    "plt.title(\"CustomerCareCalls\")\n",
    "\n",
    "plt.subplot(1, 2, 2)\n",
    "sns.countplot(x='CustomerCareCalls',data=Df)\n",
    "plt.title(\"CustomerCareCalls\")\n"
   ]
  },
  {
   "cell_type": "markdown",
   "id": "37d44b8b",
   "metadata": {},
   "source": [
    "### Inference:\n",
    " In CustomerCareCalls (calls= 4) has high count and (calls=7) has least count  , there are no such relation between the customer\n",
    " carecalls or customer Rating that impact product delivery."
   ]
  },
  {
   "cell_type": "markdown",
   "id": "d4419945",
   "metadata": {},
   "source": [
    "### ProductImportance Vs CustomerRating Vs DeliveredonTime"
   ]
  },
  {
   "cell_type": "code",
   "execution_count": 25,
   "id": "f539ab01",
   "metadata": {
    "scrolled": false
   },
   "outputs": [
    {
     "data": {
      "text/plain": [
       "<AxesSubplot:xlabel='ProductImportance', ylabel='count'>"
      ]
     },
     "execution_count": 25,
     "metadata": {},
     "output_type": "execute_result"
    },
    {
     "data": {
      "image/png": "[encoded data removed]",
      "text/plain": [
       "<Figure size 1080x648 with 3 Axes>"
      ]
     },
     "metadata": {},
     "output_type": "display_data"
    }
   ],
   "source": [
    "plt.figure(figsize=(15, 9))\n",
    "plt.subplot(2, 2, 1)\n",
    "sns.barplot(x=Df['ProductImportance'], y = Df['CustomerRating'], hue = Df['DeliveredonTime'])\n",
    "\n",
    "\n",
    "plt.subplot(2, 2, 2)\n",
    "sns.countplot(x='ProductImportance',hue='CustomerRating',data=Df)\n",
    "\n",
    "plt.subplot(2, 2, 3)\n",
    "sns.countplot(x='ProductImportance',hue='DeliveredonTime',data=Df)\n"
   ]
  },
  {
   "cell_type": "markdown",
   "id": "7d9cd8bd",
   "metadata": {},
   "source": [
    "### Inference:\n",
    "Product importance has no such relation with Customer Rating or Product delivery Column that impacts on product Importance.\n"
   ]
  },
  {
   "cell_type": "markdown",
   "id": "a03bd25e",
   "metadata": {},
   "source": [
    "## Univariate Analysis - Numerical\n",
    "## Detecting Outliers"
   ]
  },
  {
   "cell_type": "markdown",
   "id": "69bccad8",
   "metadata": {},
   "source": [
    "###  Discount"
   ]
  },
  {
   "cell_type": "code",
   "execution_count": 26,
   "id": "b1feec99",
   "metadata": {},
   "outputs": [
    {
     "data": {
      "text/plain": [
       "10    860\n",
       "2     858\n",
       "6     849\n",
       "9     845\n",
       "7     840\n",
       "     ... \n",
       "65     36\n",
       "26     36\n",
       "42     35\n",
       "30     34\n",
       "25     34\n",
       "Name: Discount, Length: 65, dtype: int64"
      ]
     },
     "execution_count": 26,
     "metadata": {},
     "output_type": "execute_result"
    }
   ],
   "source": [
    "Df['Discount'].value_counts()"
   ]
  },
  {
   "cell_type": "code",
   "execution_count": 27,
   "id": "58c5aa96",
   "metadata": {},
   "outputs": [
    {
     "data": {
      "text/plain": [
       "<AxesSubplot:xlabel='Discount', ylabel='Density'>"
      ]
     },
     "execution_count": 27,
     "metadata": {},
     "output_type": "execute_result"
    },
    {
     "data": {
      "image/png": "[encoded data removed]",
      "text/plain": [
       "<Figure size 432x288 with 2 Axes>"
      ]
     },
     "metadata": {},
     "output_type": "display_data"
    },
    {
     "data": {
      "text/plain": [
       "<Figure size 720x432 with 0 Axes>"
      ]
     },
     "metadata": {},
     "output_type": "display_data"
    },
    {
     "data": {
      "text/plain": [
       "<Figure size 720x432 with 0 Axes>"
      ]
     },
     "metadata": {},
     "output_type": "display_data"
    }
   ],
   "source": [
    "fig, ax = plt.subplots(1,2)\n",
    "\n",
    "plt.figure(figsize=(10, 6))\n",
    "sns.boxplot(x='Discount', data=Df, ax=ax[0])\n",
    "\n",
    "plt.figure(figsize=(10, 6))\n",
    "sns.distplot(Df['Discount'],ax=ax[1])"
   ]
  },
  {
   "cell_type": "markdown",
   "id": "a72ae788",
   "metadata": {},
   "source": [
    "### Insights:\n",
    "Discount offered 2,10 has almost equal and high in range.\n",
    "\n",
    "There is no outliers in this column."
   ]
  },
  {
   "cell_type": "markdown",
   "id": "e11bd835",
   "metadata": {},
   "source": [
    "### Product cost"
   ]
  },
  {
   "cell_type": "code",
   "execution_count": 28,
   "id": "a4b805bd",
   "metadata": {},
   "outputs": [
    {
     "data": {
      "text/plain": [
       "245    110\n",
       "257    109\n",
       "260    106\n",
       "254    101\n",
       "243    100\n",
       "      ... \n",
       "107      5\n",
       "99       5\n",
       "120      5\n",
       "96       5\n",
       "122      4\n",
       "Name: ProductCost, Length: 215, dtype: int64"
      ]
     },
     "execution_count": 28,
     "metadata": {},
     "output_type": "execute_result"
    }
   ],
   "source": [
    "Df['ProductCost'].value_counts()"
   ]
  },
  {
   "cell_type": "code",
   "execution_count": 29,
   "id": "12909838",
   "metadata": {},
   "outputs": [
    {
     "data": {
      "text/plain": [
       "<Figure size 1080x648 with 0 Axes>"
      ]
     },
     "execution_count": 29,
     "metadata": {},
     "output_type": "execute_result"
    },
    {
     "data": {
      "image/png": "[encoded data removed]",
      "text/plain": [
       "<Figure size 432x288 with 2 Axes>"
      ]
     },
     "metadata": {},
     "output_type": "display_data"
    },
    {
     "data": {
      "text/plain": [
       "<Figure size 1080x648 with 0 Axes>"
      ]
     },
     "metadata": {},
     "output_type": "display_data"
    },
    {
     "data": {
      "text/plain": [
       "<Figure size 1080x648 with 0 Axes>"
      ]
     },
     "metadata": {},
     "output_type": "display_data"
    }
   ],
   "source": [
    "fig, ax = plt.subplots(1, 2)\n",
    "\n",
    "sns.boxplot(x='ProductCost', data=Df, ax=ax[0])\n",
    "plt.figure(figsize=[15, 9])\n",
    "\n",
    "\n",
    "sns.distplot(Df['ProductCost'],ax=ax[1])\n",
    "plt.figure(figsize=[15, 9])\n"
   ]
  },
  {
   "cell_type": "markdown",
   "id": "53a56acf",
   "metadata": {},
   "source": [
    "### Insights:\n",
    "Product Cost 245 or 257 has almost equal and high in range.\n",
    "\n",
    "There are no outliers in this column."
   ]
  },
  {
   "cell_type": "markdown",
   "id": "cc1a5970",
   "metadata": {},
   "source": [
    "## Convert Binary Categories"
   ]
  },
  {
   "cell_type": "code",
   "execution_count": 30,
   "id": "aa83bc22",
   "metadata": {},
   "outputs": [],
   "source": [
    "# Replace \n",
    "Df['ProductImportance'].replace({'high':3,'medium':2,'low':1},inplace=True)"
   ]
  },
  {
   "cell_type": "markdown",
   "id": "d2bc586d",
   "metadata": {},
   "source": [
    "## Dummy Variables\n",
    "- Categorical Encoding-\n",
    "Here I will encode the categorical variables as numeric variables, since machine learning algorithms work on numbers and not text. I will use the pandas get_dummies function which applies one-hot encoding to all the variables passed to it"
   ]
  },
  {
   "cell_type": "code",
   "execution_count": 31,
   "id": "fdeb2153",
   "metadata": {
    "scrolled": true
   },
   "outputs": [
    {
     "data": {
      "text/html": [
       "<div>\n",
       "<style scoped>\n",
       "    .dataframe tbody tr th:only-of-type {\n",
       "        vertical-align: middle;\n",
       "    }\n",
       "\n",
       "    .dataframe tbody tr th {\n",
       "        vertical-align: top;\n",
       "    }\n",
       "\n",
       "    .dataframe thead th {\n",
       "        text-align: right;\n",
       "    }\n",
       "</style>\n",
       "<table border=\"1\" class=\"dataframe\">\n",
       "  <thead>\n",
       "    <tr style=\"text-align: right;\">\n",
       "      <th></th>\n",
       "      <th>CustomerCareCalls</th>\n",
       "      <th>CustomerRating</th>\n",
       "      <th>ProductCost</th>\n",
       "      <th>PriorPurchases</th>\n",
       "      <th>ProductImportance</th>\n",
       "      <th>Discount</th>\n",
       "      <th>Weight(gms)</th>\n",
       "      <th>DeliveredonTime</th>\n",
       "      <th>WarehouseBlock_B</th>\n",
       "      <th>WarehouseBlock_C</th>\n",
       "      <th>WarehouseBlock_D</th>\n",
       "      <th>WarehouseBlock_F</th>\n",
       "      <th>ShipmentMode_Road</th>\n",
       "      <th>ShipmentMode_Ship</th>\n",
       "      <th>Gender_M</th>\n",
       "    </tr>\n",
       "  </thead>\n",
       "  <tbody>\n",
       "    <tr>\n",
       "      <th>0</th>\n",
       "      <td>4</td>\n",
       "      <td>2</td>\n",
       "      <td>177</td>\n",
       "      <td>3</td>\n",
       "      <td>1</td>\n",
       "      <td>44</td>\n",
       "      <td>1233</td>\n",
       "      <td>1</td>\n",
       "      <td>0</td>\n",
       "      <td>0</td>\n",
       "      <td>1</td>\n",
       "      <td>0</td>\n",
       "      <td>0</td>\n",
       "      <td>0</td>\n",
       "      <td>0</td>\n",
       "    </tr>\n",
       "    <tr>\n",
       "      <th>1</th>\n",
       "      <td>4</td>\n",
       "      <td>5</td>\n",
       "      <td>216</td>\n",
       "      <td>2</td>\n",
       "      <td>1</td>\n",
       "      <td>59</td>\n",
       "      <td>3088</td>\n",
       "      <td>1</td>\n",
       "      <td>0</td>\n",
       "      <td>0</td>\n",
       "      <td>0</td>\n",
       "      <td>1</td>\n",
       "      <td>0</td>\n",
       "      <td>0</td>\n",
       "      <td>1</td>\n",
       "    </tr>\n",
       "    <tr>\n",
       "      <th>2</th>\n",
       "      <td>2</td>\n",
       "      <td>2</td>\n",
       "      <td>183</td>\n",
       "      <td>4</td>\n",
       "      <td>1</td>\n",
       "      <td>48</td>\n",
       "      <td>3374</td>\n",
       "      <td>1</td>\n",
       "      <td>0</td>\n",
       "      <td>0</td>\n",
       "      <td>0</td>\n",
       "      <td>0</td>\n",
       "      <td>0</td>\n",
       "      <td>0</td>\n",
       "      <td>1</td>\n",
       "    </tr>\n",
       "    <tr>\n",
       "      <th>3</th>\n",
       "      <td>3</td>\n",
       "      <td>3</td>\n",
       "      <td>176</td>\n",
       "      <td>4</td>\n",
       "      <td>2</td>\n",
       "      <td>10</td>\n",
       "      <td>1177</td>\n",
       "      <td>1</td>\n",
       "      <td>1</td>\n",
       "      <td>0</td>\n",
       "      <td>0</td>\n",
       "      <td>0</td>\n",
       "      <td>0</td>\n",
       "      <td>0</td>\n",
       "      <td>1</td>\n",
       "    </tr>\n",
       "    <tr>\n",
       "      <th>4</th>\n",
       "      <td>2</td>\n",
       "      <td>2</td>\n",
       "      <td>184</td>\n",
       "      <td>3</td>\n",
       "      <td>2</td>\n",
       "      <td>46</td>\n",
       "      <td>2484</td>\n",
       "      <td>1</td>\n",
       "      <td>0</td>\n",
       "      <td>1</td>\n",
       "      <td>0</td>\n",
       "      <td>0</td>\n",
       "      <td>0</td>\n",
       "      <td>0</td>\n",
       "      <td>0</td>\n",
       "    </tr>\n",
       "  </tbody>\n",
       "</table>\n",
       "</div>"
      ],
      "text/plain": [
       "   CustomerCareCalls  CustomerRating  ProductCost  PriorPurchases  \\\n",
       "0                  4               2          177               3   \n",
       "1                  4               5          216               2   \n",
       "2                  2               2          183               4   \n",
       "3                  3               3          176               4   \n",
       "4                  2               2          184               3   \n",
       "\n",
       "   ProductImportance  Discount  Weight(gms)  DeliveredonTime  \\\n",
       "0                  1        44         1233                1   \n",
       "1                  1        59         3088                1   \n",
       "2                  1        48         3374                1   \n",
       "3                  2        10         1177                1   \n",
       "4                  2        46         2484                1   \n",
       "\n",
       "   WarehouseBlock_B  WarehouseBlock_C  WarehouseBlock_D  WarehouseBlock_F  \\\n",
       "0                 0                 0                 1                 0   \n",
       "1                 0                 0                 0                 1   \n",
       "2                 0                 0                 0                 0   \n",
       "3                 1                 0                 0                 0   \n",
       "4                 0                 1                 0                 0   \n",
       "\n",
       "   ShipmentMode_Road  ShipmentMode_Ship  Gender_M  \n",
       "0                  0                  0         0  \n",
       "1                  0                  0         1  \n",
       "2                  0                  0         1  \n",
       "3                  0                  0         1  \n",
       "4                  0                  0         0  "
      ]
     },
     "execution_count": 31,
     "metadata": {},
     "output_type": "execute_result"
    }
   ],
   "source": [
    "df = pd.get_dummies(Df,drop_first=True)\n",
    "df.head()"
   ]
  },
  {
   "cell_type": "code",
   "execution_count": 32,
   "id": "a240635d",
   "metadata": {
    "scrolled": true
   },
   "outputs": [
    {
     "data": {
      "text/plain": [
       "(10999, 15)"
      ]
     },
     "execution_count": 32,
     "metadata": {},
     "output_type": "execute_result"
    }
   ],
   "source": [
    "df.shape"
   ]
  },
  {
   "cell_type": "code",
   "execution_count": 33,
   "id": "4ee63aee",
   "metadata": {
    "scrolled": true
   },
   "outputs": [
    {
     "data": {
      "text/plain": [
       "<AxesSubplot:>"
      ]
     },
     "execution_count": 33,
     "metadata": {},
     "output_type": "execute_result"
    },
    {
     "data": {
      "image/png": "[encoded data removed]",
      "text/plain": [
       "<Figure size 1080x576 with 2 Axes>"
      ]
     },
     "metadata": {},
     "output_type": "display_data"
    }
   ],
   "source": [
    "# Visualizing the data using heatmap\n",
    "\n",
    "sns.set(rc={\"figure.figsize\":(15,8)})\n",
    "sns.heatmap(df.corr(),annot=True,cmap='Greens', fmt= '.1g')# Visualizing the data using heatmap"
   ]
  },
  {
   "cell_type": "code",
   "execution_count": 34,
   "id": "1b455a9b",
   "metadata": {},
   "outputs": [
    {
     "name": "stdout",
     "output_type": "stream",
     "text": [
      "Total number of columns after One-Hot Encoding :  15\n"
     ]
    }
   ],
   "source": [
    "print('Total number of columns after One-Hot Encoding : ',len(df.columns))"
   ]
  },
  {
   "cell_type": "markdown",
   "id": "1001baa3",
   "metadata": {},
   "source": [
    "## Insight:\n",
    "There are 15 columns in Heatmap which  is not difficult to interpret. "
   ]
  },
  {
   "cell_type": "markdown",
   "id": "a4430912",
   "metadata": {},
   "source": [
    "## Feature Scaling\n",
    "Feature Scaling: We standardized the numeric attributes so they have a common mean of zero, \n",
    "if they were measured on different scales"
   ]
  },
  {
   "cell_type": "code",
   "execution_count": 35,
   "id": "f3fd3a4a",
   "metadata": {},
   "outputs": [],
   "source": [
    "from sklearn.preprocessing import StandardScaler"
   ]
  },
  {
   "cell_type": "code",
   "execution_count": 36,
   "id": "8f32ffde",
   "metadata": {},
   "outputs": [],
   "source": [
    "ss=StandardScaler()"
   ]
  },
  {
   "cell_type": "code",
   "execution_count": 37,
   "id": "baf90ee0",
   "metadata": {
    "scrolled": true
   },
   "outputs": [
    {
     "data": {
      "text/plain": [
       "array([[-0.04771132, -0.7007551 , -0.69072171, ..., -0.4364594 ,\n",
       "        -1.45247977, -0.99176046],\n",
       "       [-0.04771132,  1.42157771,  0.12074558, ..., -0.4364594 ,\n",
       "        -1.45247977,  1.00830799],\n",
       "       [-1.79988745, -0.7007551 , -0.56588059, ..., -0.4364594 ,\n",
       "        -1.45247977,  1.00830799],\n",
       "       ...,\n",
       "       [ 0.82837675,  0.71413344,  0.66172378, ..., -0.4364594 ,\n",
       "         0.68847775, -0.99176046],\n",
       "       [ 0.82837675, -0.7007551 ,  0.26639356, ..., -0.4364594 ,\n",
       "         0.68847775,  1.00830799],\n",
       "       [-1.79988745,  1.42157771, -1.14847249, ..., -0.4364594 ,\n",
       "         0.68847775, -0.99176046]])"
      ]
     },
     "execution_count": 37,
     "metadata": {},
     "output_type": "execute_result"
    }
   ],
   "source": [
    "ss.fit_transform(df)"
   ]
  },
  {
   "cell_type": "markdown",
   "id": "f50e93ce",
   "metadata": {},
   "source": [
    "## Insight:\n",
    "Now that we have our Train and Test data bases ready and Train database standardized,\n",
    "let's try building some model using Logistic Regression."
   ]
  },
  {
   "cell_type": "markdown",
   "id": "d48e03fe",
   "metadata": {},
   "source": [
    "## Train - Test Split"
   ]
  },
  {
   "cell_type": "code",
   "execution_count": 38,
   "id": "ed7401db",
   "metadata": {},
   "outputs": [],
   "source": [
    "from sklearn.model_selection import train_test_split\n"
   ]
  },
  {
   "cell_type": "code",
   "execution_count": 39,
   "id": "b90de35b",
   "metadata": {},
   "outputs": [],
   "source": [
    "# target variable\n",
    "target = Df[\"DeliveredonTime\"]\n",
    "df.drop(columns=['DeliveredonTime'],inplace=True)\n",
    "\n",
    "\n",
    "x_train,x_test,target_train,target_test = train_test_split(df,target,stratify=target,test_size=.25,random_state=12)"
   ]
  },
  {
   "cell_type": "code",
   "execution_count": 40,
   "id": "5aedb55b",
   "metadata": {},
   "outputs": [
    {
     "data": {
      "text/html": [
       "<div>\n",
       "<style scoped>\n",
       "    .dataframe tbody tr th:only-of-type {\n",
       "        vertical-align: middle;\n",
       "    }\n",
       "\n",
       "    .dataframe tbody tr th {\n",
       "        vertical-align: top;\n",
       "    }\n",
       "\n",
       "    .dataframe thead th {\n",
       "        text-align: right;\n",
       "    }\n",
       "</style>\n",
       "<table border=\"1\" class=\"dataframe\">\n",
       "  <thead>\n",
       "    <tr style=\"text-align: right;\">\n",
       "      <th></th>\n",
       "      <th>CustomerCareCalls</th>\n",
       "      <th>CustomerRating</th>\n",
       "      <th>ProductCost</th>\n",
       "      <th>PriorPurchases</th>\n",
       "      <th>ProductImportance</th>\n",
       "      <th>Discount</th>\n",
       "      <th>Weight(gms)</th>\n",
       "      <th>WarehouseBlock_B</th>\n",
       "      <th>WarehouseBlock_C</th>\n",
       "      <th>WarehouseBlock_D</th>\n",
       "      <th>WarehouseBlock_F</th>\n",
       "      <th>ShipmentMode_Road</th>\n",
       "      <th>ShipmentMode_Ship</th>\n",
       "      <th>Gender_M</th>\n",
       "    </tr>\n",
       "  </thead>\n",
       "  <tbody>\n",
       "    <tr>\n",
       "      <th>7488</th>\n",
       "      <td>5</td>\n",
       "      <td>5</td>\n",
       "      <td>250</td>\n",
       "      <td>4</td>\n",
       "      <td>2</td>\n",
       "      <td>8</td>\n",
       "      <td>1247</td>\n",
       "      <td>0</td>\n",
       "      <td>0</td>\n",
       "      <td>1</td>\n",
       "      <td>0</td>\n",
       "      <td>0</td>\n",
       "      <td>1</td>\n",
       "      <td>0</td>\n",
       "    </tr>\n",
       "    <tr>\n",
       "      <th>8307</th>\n",
       "      <td>6</td>\n",
       "      <td>2</td>\n",
       "      <td>254</td>\n",
       "      <td>4</td>\n",
       "      <td>1</td>\n",
       "      <td>9</td>\n",
       "      <td>1626</td>\n",
       "      <td>1</td>\n",
       "      <td>0</td>\n",
       "      <td>0</td>\n",
       "      <td>0</td>\n",
       "      <td>0</td>\n",
       "      <td>1</td>\n",
       "      <td>0</td>\n",
       "    </tr>\n",
       "    <tr>\n",
       "      <th>9686</th>\n",
       "      <td>5</td>\n",
       "      <td>5</td>\n",
       "      <td>218</td>\n",
       "      <td>5</td>\n",
       "      <td>2</td>\n",
       "      <td>7</td>\n",
       "      <td>1692</td>\n",
       "      <td>0</td>\n",
       "      <td>0</td>\n",
       "      <td>0</td>\n",
       "      <td>0</td>\n",
       "      <td>0</td>\n",
       "      <td>1</td>\n",
       "      <td>0</td>\n",
       "    </tr>\n",
       "    <tr>\n",
       "      <th>8855</th>\n",
       "      <td>4</td>\n",
       "      <td>3</td>\n",
       "      <td>268</td>\n",
       "      <td>3</td>\n",
       "      <td>1</td>\n",
       "      <td>10</td>\n",
       "      <td>5998</td>\n",
       "      <td>0</td>\n",
       "      <td>0</td>\n",
       "      <td>0</td>\n",
       "      <td>1</td>\n",
       "      <td>0</td>\n",
       "      <td>1</td>\n",
       "      <td>0</td>\n",
       "    </tr>\n",
       "    <tr>\n",
       "      <th>2410</th>\n",
       "      <td>4</td>\n",
       "      <td>1</td>\n",
       "      <td>274</td>\n",
       "      <td>4</td>\n",
       "      <td>2</td>\n",
       "      <td>57</td>\n",
       "      <td>3332</td>\n",
       "      <td>0</td>\n",
       "      <td>1</td>\n",
       "      <td>0</td>\n",
       "      <td>0</td>\n",
       "      <td>0</td>\n",
       "      <td>1</td>\n",
       "      <td>1</td>\n",
       "    </tr>\n",
       "    <tr>\n",
       "      <th>...</th>\n",
       "      <td>...</td>\n",
       "      <td>...</td>\n",
       "      <td>...</td>\n",
       "      <td>...</td>\n",
       "      <td>...</td>\n",
       "      <td>...</td>\n",
       "      <td>...</td>\n",
       "      <td>...</td>\n",
       "      <td>...</td>\n",
       "      <td>...</td>\n",
       "      <td>...</td>\n",
       "      <td>...</td>\n",
       "      <td>...</td>\n",
       "      <td>...</td>\n",
       "    </tr>\n",
       "    <tr>\n",
       "      <th>7313</th>\n",
       "      <td>4</td>\n",
       "      <td>4</td>\n",
       "      <td>253</td>\n",
       "      <td>2</td>\n",
       "      <td>2</td>\n",
       "      <td>5</td>\n",
       "      <td>5624</td>\n",
       "      <td>0</td>\n",
       "      <td>0</td>\n",
       "      <td>0</td>\n",
       "      <td>1</td>\n",
       "      <td>0</td>\n",
       "      <td>1</td>\n",
       "      <td>0</td>\n",
       "    </tr>\n",
       "    <tr>\n",
       "      <th>775</th>\n",
       "      <td>3</td>\n",
       "      <td>1</td>\n",
       "      <td>270</td>\n",
       "      <td>3</td>\n",
       "      <td>2</td>\n",
       "      <td>61</td>\n",
       "      <td>3582</td>\n",
       "      <td>0</td>\n",
       "      <td>0</td>\n",
       "      <td>0</td>\n",
       "      <td>1</td>\n",
       "      <td>0</td>\n",
       "      <td>1</td>\n",
       "      <td>0</td>\n",
       "    </tr>\n",
       "    <tr>\n",
       "      <th>4068</th>\n",
       "      <td>5</td>\n",
       "      <td>4</td>\n",
       "      <td>243</td>\n",
       "      <td>6</td>\n",
       "      <td>2</td>\n",
       "      <td>1</td>\n",
       "      <td>4170</td>\n",
       "      <td>0</td>\n",
       "      <td>0</td>\n",
       "      <td>1</td>\n",
       "      <td>0</td>\n",
       "      <td>0</td>\n",
       "      <td>1</td>\n",
       "      <td>0</td>\n",
       "    </tr>\n",
       "    <tr>\n",
       "      <th>540</th>\n",
       "      <td>3</td>\n",
       "      <td>3</td>\n",
       "      <td>172</td>\n",
       "      <td>3</td>\n",
       "      <td>2</td>\n",
       "      <td>42</td>\n",
       "      <td>1707</td>\n",
       "      <td>0</td>\n",
       "      <td>0</td>\n",
       "      <td>1</td>\n",
       "      <td>0</td>\n",
       "      <td>1</td>\n",
       "      <td>0</td>\n",
       "      <td>0</td>\n",
       "    </tr>\n",
       "    <tr>\n",
       "      <th>7948</th>\n",
       "      <td>4</td>\n",
       "      <td>3</td>\n",
       "      <td>150</td>\n",
       "      <td>3</td>\n",
       "      <td>3</td>\n",
       "      <td>2</td>\n",
       "      <td>4383</td>\n",
       "      <td>0</td>\n",
       "      <td>1</td>\n",
       "      <td>0</td>\n",
       "      <td>0</td>\n",
       "      <td>0</td>\n",
       "      <td>0</td>\n",
       "      <td>0</td>\n",
       "    </tr>\n",
       "  </tbody>\n",
       "</table>\n",
       "<p>8249 rows × 14 columns</p>\n",
       "</div>"
      ],
      "text/plain": [
       "      CustomerCareCalls  CustomerRating  ProductCost  PriorPurchases  \\\n",
       "7488                  5               5          250               4   \n",
       "8307                  6               2          254               4   \n",
       "9686                  5               5          218               5   \n",
       "8855                  4               3          268               3   \n",
       "2410                  4               1          274               4   \n",
       "...                 ...             ...          ...             ...   \n",
       "7313                  4               4          253               2   \n",
       "775                   3               1          270               3   \n",
       "4068                  5               4          243               6   \n",
       "540                   3               3          172               3   \n",
       "7948                  4               3          150               3   \n",
       "\n",
       "      ProductImportance  Discount  Weight(gms)  WarehouseBlock_B  \\\n",
       "7488                  2         8         1247                 0   \n",
       "8307                  1         9         1626                 1   \n",
       "9686                  2         7         1692                 0   \n",
       "8855                  1        10         5998                 0   \n",
       "2410                  2        57         3332                 0   \n",
       "...                 ...       ...          ...               ...   \n",
       "7313                  2         5         5624                 0   \n",
       "775                   2        61         3582                 0   \n",
       "4068                  2         1         4170                 0   \n",
       "540                   2        42         1707                 0   \n",
       "7948                  3         2         4383                 0   \n",
       "\n",
       "      WarehouseBlock_C  WarehouseBlock_D  WarehouseBlock_F  ShipmentMode_Road  \\\n",
       "7488                 0                 1                 0                  0   \n",
       "8307                 0                 0                 0                  0   \n",
       "9686                 0                 0                 0                  0   \n",
       "8855                 0                 0                 1                  0   \n",
       "2410                 1                 0                 0                  0   \n",
       "...                ...               ...               ...                ...   \n",
       "7313                 0                 0                 1                  0   \n",
       "775                  0                 0                 1                  0   \n",
       "4068                 0                 1                 0                  0   \n",
       "540                  0                 1                 0                  1   \n",
       "7948                 1                 0                 0                  0   \n",
       "\n",
       "      ShipmentMode_Ship  Gender_M  \n",
       "7488                  1         0  \n",
       "8307                  1         0  \n",
       "9686                  1         0  \n",
       "8855                  1         0  \n",
       "2410                  1         1  \n",
       "...                 ...       ...  \n",
       "7313                  1         0  \n",
       "775                   1         0  \n",
       "4068                  1         0  \n",
       "540                   0         0  \n",
       "7948                  0         0  \n",
       "\n",
       "[8249 rows x 14 columns]"
      ]
     },
     "execution_count": 40,
     "metadata": {},
     "output_type": "execute_result"
    }
   ],
   "source": [
    "x_train"
   ]
  },
  {
   "cell_type": "code",
   "execution_count": 41,
   "id": "28d135c2",
   "metadata": {},
   "outputs": [
    {
     "data": {
      "text/plain": [
       "7488    1\n",
       "8307    0\n",
       "9686    0\n",
       "8855    0\n",
       "2410    1\n",
       "       ..\n",
       "7313    0\n",
       "775     1\n",
       "4068    1\n",
       "540     1\n",
       "7948    0\n",
       "Name: DeliveredonTime, Length: 8249, dtype: int64"
      ]
     },
     "execution_count": 41,
     "metadata": {},
     "output_type": "execute_result"
    }
   ],
   "source": [
    "target_train"
   ]
  },
  {
   "cell_type": "code",
   "execution_count": 42,
   "id": "3668eb6d",
   "metadata": {},
   "outputs": [
    {
     "data": {
      "text/plain": [
       "10772    1\n",
       "8519     0\n",
       "6273     0\n",
       "1401     1\n",
       "3871     1\n",
       "        ..\n",
       "5843     1\n",
       "6364     0\n",
       "6011     1\n",
       "5531     1\n",
       "7335     0\n",
       "Name: DeliveredonTime, Length: 2750, dtype: int64"
      ]
     },
     "execution_count": 42,
     "metadata": {},
     "output_type": "execute_result"
    }
   ],
   "source": [
    "target_test"
   ]
  },
  {
   "cell_type": "code",
   "execution_count": 43,
   "id": "16a9928b",
   "metadata": {},
   "outputs": [
    {
     "data": {
      "text/html": [
       "<div>\n",
       "<style scoped>\n",
       "    .dataframe tbody tr th:only-of-type {\n",
       "        vertical-align: middle;\n",
       "    }\n",
       "\n",
       "    .dataframe tbody tr th {\n",
       "        vertical-align: top;\n",
       "    }\n",
       "\n",
       "    .dataframe thead th {\n",
       "        text-align: right;\n",
       "    }\n",
       "</style>\n",
       "<table border=\"1\" class=\"dataframe\">\n",
       "  <thead>\n",
       "    <tr style=\"text-align: right;\">\n",
       "      <th></th>\n",
       "      <th>CustomerCareCalls</th>\n",
       "      <th>CustomerRating</th>\n",
       "      <th>ProductCost</th>\n",
       "      <th>PriorPurchases</th>\n",
       "      <th>ProductImportance</th>\n",
       "      <th>Discount</th>\n",
       "      <th>Weight(gms)</th>\n",
       "      <th>WarehouseBlock_B</th>\n",
       "      <th>WarehouseBlock_C</th>\n",
       "      <th>WarehouseBlock_D</th>\n",
       "      <th>WarehouseBlock_F</th>\n",
       "      <th>ShipmentMode_Road</th>\n",
       "      <th>ShipmentMode_Ship</th>\n",
       "      <th>Gender_M</th>\n",
       "    </tr>\n",
       "  </thead>\n",
       "  <tbody>\n",
       "    <tr>\n",
       "      <th>10772</th>\n",
       "      <td>4</td>\n",
       "      <td>4</td>\n",
       "      <td>229</td>\n",
       "      <td>5</td>\n",
       "      <td>2</td>\n",
       "      <td>7</td>\n",
       "      <td>1716</td>\n",
       "      <td>0</td>\n",
       "      <td>0</td>\n",
       "      <td>0</td>\n",
       "      <td>0</td>\n",
       "      <td>0</td>\n",
       "      <td>1</td>\n",
       "      <td>0</td>\n",
       "    </tr>\n",
       "    <tr>\n",
       "      <th>8519</th>\n",
       "      <td>2</td>\n",
       "      <td>1</td>\n",
       "      <td>238</td>\n",
       "      <td>2</td>\n",
       "      <td>1</td>\n",
       "      <td>4</td>\n",
       "      <td>4992</td>\n",
       "      <td>0</td>\n",
       "      <td>0</td>\n",
       "      <td>0</td>\n",
       "      <td>1</td>\n",
       "      <td>0</td>\n",
       "      <td>1</td>\n",
       "      <td>0</td>\n",
       "    </tr>\n",
       "    <tr>\n",
       "      <th>6273</th>\n",
       "      <td>6</td>\n",
       "      <td>5</td>\n",
       "      <td>251</td>\n",
       "      <td>4</td>\n",
       "      <td>1</td>\n",
       "      <td>8</td>\n",
       "      <td>1038</td>\n",
       "      <td>1</td>\n",
       "      <td>0</td>\n",
       "      <td>0</td>\n",
       "      <td>0</td>\n",
       "      <td>0</td>\n",
       "      <td>1</td>\n",
       "      <td>0</td>\n",
       "    </tr>\n",
       "    <tr>\n",
       "      <th>1401</th>\n",
       "      <td>3</td>\n",
       "      <td>5</td>\n",
       "      <td>152</td>\n",
       "      <td>6</td>\n",
       "      <td>1</td>\n",
       "      <td>32</td>\n",
       "      <td>1158</td>\n",
       "      <td>1</td>\n",
       "      <td>0</td>\n",
       "      <td>0</td>\n",
       "      <td>0</td>\n",
       "      <td>0</td>\n",
       "      <td>1</td>\n",
       "      <td>0</td>\n",
       "    </tr>\n",
       "    <tr>\n",
       "      <th>3871</th>\n",
       "      <td>4</td>\n",
       "      <td>2</td>\n",
       "      <td>265</td>\n",
       "      <td>4</td>\n",
       "      <td>2</td>\n",
       "      <td>3</td>\n",
       "      <td>4283</td>\n",
       "      <td>0</td>\n",
       "      <td>0</td>\n",
       "      <td>0</td>\n",
       "      <td>1</td>\n",
       "      <td>0</td>\n",
       "      <td>1</td>\n",
       "      <td>1</td>\n",
       "    </tr>\n",
       "    <tr>\n",
       "      <th>...</th>\n",
       "      <td>...</td>\n",
       "      <td>...</td>\n",
       "      <td>...</td>\n",
       "      <td>...</td>\n",
       "      <td>...</td>\n",
       "      <td>...</td>\n",
       "      <td>...</td>\n",
       "      <td>...</td>\n",
       "      <td>...</td>\n",
       "      <td>...</td>\n",
       "      <td>...</td>\n",
       "      <td>...</td>\n",
       "      <td>...</td>\n",
       "      <td>...</td>\n",
       "    </tr>\n",
       "    <tr>\n",
       "      <th>5843</th>\n",
       "      <td>4</td>\n",
       "      <td>5</td>\n",
       "      <td>134</td>\n",
       "      <td>6</td>\n",
       "      <td>2</td>\n",
       "      <td>7</td>\n",
       "      <td>4881</td>\n",
       "      <td>0</td>\n",
       "      <td>0</td>\n",
       "      <td>0</td>\n",
       "      <td>1</td>\n",
       "      <td>0</td>\n",
       "      <td>1</td>\n",
       "      <td>1</td>\n",
       "    </tr>\n",
       "    <tr>\n",
       "      <th>6364</th>\n",
       "      <td>2</td>\n",
       "      <td>4</td>\n",
       "      <td>221</td>\n",
       "      <td>3</td>\n",
       "      <td>1</td>\n",
       "      <td>3</td>\n",
       "      <td>4076</td>\n",
       "      <td>0</td>\n",
       "      <td>1</td>\n",
       "      <td>0</td>\n",
       "      <td>0</td>\n",
       "      <td>0</td>\n",
       "      <td>1</td>\n",
       "      <td>0</td>\n",
       "    </tr>\n",
       "    <tr>\n",
       "      <th>6011</th>\n",
       "      <td>7</td>\n",
       "      <td>1</td>\n",
       "      <td>276</td>\n",
       "      <td>4</td>\n",
       "      <td>1</td>\n",
       "      <td>8</td>\n",
       "      <td>1560</td>\n",
       "      <td>0</td>\n",
       "      <td>0</td>\n",
       "      <td>0</td>\n",
       "      <td>1</td>\n",
       "      <td>1</td>\n",
       "      <td>0</td>\n",
       "      <td>0</td>\n",
       "    </tr>\n",
       "    <tr>\n",
       "      <th>5531</th>\n",
       "      <td>6</td>\n",
       "      <td>1</td>\n",
       "      <td>308</td>\n",
       "      <td>4</td>\n",
       "      <td>2</td>\n",
       "      <td>1</td>\n",
       "      <td>1216</td>\n",
       "      <td>0</td>\n",
       "      <td>0</td>\n",
       "      <td>0</td>\n",
       "      <td>1</td>\n",
       "      <td>0</td>\n",
       "      <td>1</td>\n",
       "      <td>1</td>\n",
       "    </tr>\n",
       "    <tr>\n",
       "      <th>7335</th>\n",
       "      <td>3</td>\n",
       "      <td>1</td>\n",
       "      <td>215</td>\n",
       "      <td>2</td>\n",
       "      <td>2</td>\n",
       "      <td>9</td>\n",
       "      <td>4940</td>\n",
       "      <td>1</td>\n",
       "      <td>0</td>\n",
       "      <td>0</td>\n",
       "      <td>0</td>\n",
       "      <td>0</td>\n",
       "      <td>1</td>\n",
       "      <td>0</td>\n",
       "    </tr>\n",
       "  </tbody>\n",
       "</table>\n",
       "<p>2750 rows × 14 columns</p>\n",
       "</div>"
      ],
      "text/plain": [
       "       CustomerCareCalls  CustomerRating  ProductCost  PriorPurchases  \\\n",
       "10772                  4               4          229               5   \n",
       "8519                   2               1          238               2   \n",
       "6273                   6               5          251               4   \n",
       "1401                   3               5          152               6   \n",
       "3871                   4               2          265               4   \n",
       "...                  ...             ...          ...             ...   \n",
       "5843                   4               5          134               6   \n",
       "6364                   2               4          221               3   \n",
       "6011                   7               1          276               4   \n",
       "5531                   6               1          308               4   \n",
       "7335                   3               1          215               2   \n",
       "\n",
       "       ProductImportance  Discount  Weight(gms)  WarehouseBlock_B  \\\n",
       "10772                  2         7         1716                 0   \n",
       "8519                   1         4         4992                 0   \n",
       "6273                   1         8         1038                 1   \n",
       "1401                   1        32         1158                 1   \n",
       "3871                   2         3         4283                 0   \n",
       "...                  ...       ...          ...               ...   \n",
       "5843                   2         7         4881                 0   \n",
       "6364                   1         3         4076                 0   \n",
       "6011                   1         8         1560                 0   \n",
       "5531                   2         1         1216                 0   \n",
       "7335                   2         9         4940                 1   \n",
       "\n",
       "       WarehouseBlock_C  WarehouseBlock_D  WarehouseBlock_F  \\\n",
       "10772                 0                 0                 0   \n",
       "8519                  0                 0                 1   \n",
       "6273                  0                 0                 0   \n",
       "1401                  0                 0                 0   \n",
       "3871                  0                 0                 1   \n",
       "...                 ...               ...               ...   \n",
       "5843                  0                 0                 1   \n",
       "6364                  1                 0                 0   \n",
       "6011                  0                 0                 1   \n",
       "5531                  0                 0                 1   \n",
       "7335                  0                 0                 0   \n",
       "\n",
       "       ShipmentMode_Road  ShipmentMode_Ship  Gender_M  \n",
       "10772                  0                  1         0  \n",
       "8519                   0                  1         0  \n",
       "6273                   0                  1         0  \n",
       "1401                   0                  1         0  \n",
       "3871                   0                  1         1  \n",
       "...                  ...                ...       ...  \n",
       "5843                   0                  1         1  \n",
       "6364                   0                  1         0  \n",
       "6011                   1                  0         0  \n",
       "5531                   0                  1         1  \n",
       "7335                   0                  1         0  \n",
       "\n",
       "[2750 rows x 14 columns]"
      ]
     },
     "execution_count": 43,
     "metadata": {},
     "output_type": "execute_result"
    }
   ],
   "source": [
    "x_test"
   ]
  },
  {
   "cell_type": "markdown",
   "id": "4afa8865",
   "metadata": {},
   "source": [
    "### Insight:\n",
    "Now that we have our Train and Test data bases ready and Train database standardized, \n",
    "let's try building some models using ML Algorithms."
   ]
  },
  {
   "cell_type": "markdown",
   "id": "2f8c0c78",
   "metadata": {},
   "source": [
    "# Model Building\n",
    "Now we are ready to build a model and predict the required solution. There are 60+ predictive modelling algorithms to choose from. We must understand the type of problem and solution requirement to narrow down to a select few models which we can evaluate. Our problem is a classification problem. We want to identify relationship between output (DeliveredonTime or not) with other variables or features (WarehouseBlock, ShipmentMode, CustomerCareCalls ...). We are also perfoming a category of machine learning which is called supervised learning as we are training our model with a given dataset. With these two criteria - Supervised Learning plus Classification and Regression(logisticRegression), we can narrow down our choice of models to a few:"
   ]
  },
  {
   "cell_type": "code",
   "execution_count": 44,
   "id": "c3930223",
   "metadata": {},
   "outputs": [],
   "source": [
    "from sklearn.ensemble import RandomForestClassifier,GradientBoostingClassifier\n",
    "from xgboost import XGBClassifier \n",
    "from sklearn.linear_model import LogisticRegression,LogisticRegressionCV\n",
    "from sklearn.neighbors import KNeighborsClassifier\n",
    "from sklearn.svm import SVC"
   ]
  },
  {
   "cell_type": "code",
   "execution_count": 45,
   "id": "574f6902",
   "metadata": {},
   "outputs": [],
   "source": [
    "from sklearn.metrics import accuracy_score, mean_absolute_error ,mean_squared_error, median_absolute_error"
   ]
  },
  {
   "cell_type": "markdown",
   "id": "770f774a",
   "metadata": {},
   "source": [
    "## Model1: Gradient Boosting Classifier()\n",
    "In Gradient Boosting, each predictor tries to improve on its predecessor by reducing the errors. But the fascinating idea behind Gradient Boosting is that instead of fitting a predictor on the data at each iteration, it actually fits a new predictor to the residual errors made by the previous predictor.As gradient boosting is one of the boosting algorithms it is used to minimize bias error of the model."
   ]
  },
  {
   "cell_type": "code",
   "execution_count": 46,
   "id": "7067a2ac",
   "metadata": {},
   "outputs": [
    {
     "name": "stdout",
     "output_type": "stream",
     "text": [
      "Score the x-train with target-train is :  71.29 %\n",
      "Score the x-test  with target-test  is :  70.18 %\n",
      " Mean squared  error is  0.29818181818181816\n",
      " Median absolute error is  0.0\n"
     ]
    }
   ],
   "source": [
    "gbc=GradientBoostingClassifier()\n",
    "\n",
    "gbc.fit(x_train,target_train)\n",
    "\n",
    "print(\"Score the x-train with target-train is : \", str(round(gbc.score(x_train,target_train)*100,2)),\"%\")\n",
    "print(\"Score the x-test  with target-test  is : \", str(round(gbc.score(x_test,target_test)*100,2)),\"%\")\n",
    "\n",
    "Y_pred=gbc.predict(x_test)\n",
    "\n",
    "error_gb = mean_absolute_error(target_test,Y_pred)\n",
    "print(\" Mean squared  error is \" , mean_squared_error(target_test,Y_pred))\n",
    "print(\" Median absolute error is \" ,median_absolute_error(target_test,Y_pred)) \n",
    "acc_gb = round(accuracy_score(target_test,Y_pred)*100,2)"
   ]
  },
  {
   "cell_type": "markdown",
   "id": "2b4bf6f4",
   "metadata": {},
   "source": [
    "# Model 2: Logistic Regression\n",
    "\n",
    "Logistic Regression is a useful model. Logistic regression measures the relationship between the categorical dependent variable (feature) and one or more independent variables (features) by estimating probabilities using a logistic function, which is the cumulative logistic distribution."
   ]
  },
  {
   "cell_type": "code",
   "execution_count": 47,
   "id": "fed3d922",
   "metadata": {},
   "outputs": [
    {
     "name": "stdout",
     "output_type": "stream",
     "text": [
      "Score the x-train with target-train is :  63.52 %\n",
      "Score the x-test  with target-test  is :  63.35 %\n",
      " Mean squared  error is  0.36654545454545456\n",
      " Median absolute error is  0.0\n"
     ]
    }
   ],
   "source": [
    "lr= LogisticRegression()\n",
    "\n",
    "lr.fit(x_train,target_train)\n",
    "\n",
    "print(\"Score the x-train with target-train is : \", str(round(lr.score(x_train,target_train)*100,2)),\"%\")\n",
    "print(\"Score the x-test  with target-test  is : \", str(round(lr.score(x_test,target_test)*100,2)),\"%\")\n",
    "\n",
    "Y_pred=lr.predict(x_test)\n",
    "\n",
    "error_lr = mean_absolute_error(target_test,Y_pred)\n",
    "print(\" Mean squared  error is \" , mean_squared_error(target_test,Y_pred))\n",
    "print(\" Median absolute error is \" ,median_absolute_error(target_test,Y_pred)) \n",
    "acc_lr = round(accuracy_score(target_test,Y_pred)*100,2)"
   ]
  },
  {
   "cell_type": "markdown",
   "id": "4145d56f",
   "metadata": {},
   "source": [
    "# Model 3 : Random Forest Classifier\n",
    "The next model Random Forests is one of the most popular. Random forests or  decision tree are an ensemble learning method for classification, regression , that operate by constructing a multitude of decision trees (n_estimators=100) at training time and outputting the class that is the mode of the classes (classification) or mean prediction (regression) of the individual trees. \n"
   ]
  },
  {
   "cell_type": "code",
   "execution_count": 48,
   "id": "fcb86192",
   "metadata": {
    "scrolled": true
   },
   "outputs": [
    {
     "name": "stdout",
     "output_type": "stream",
     "text": [
      "Score the x-train with target-train is :  100.0 %\n",
      "Score the x-test  with target-test  is :  67.24 %\n",
      " Mean squared  error is  0.3276363636363636\n",
      " Median absolute error is  0.0\n"
     ]
    }
   ],
   "source": [
    "rf= RandomForestClassifier(n_estimators=100,random_state=92)\n",
    "\n",
    "rf.fit(x_train,target_train)\n",
    "\n",
    "print(\"Score the x-train with target-train is : \", str(round(rf.score(x_train,target_train)*100,2)),\"%\")\n",
    "print(\"Score the x-test  with target-test  is : \", str(round(rf.score(x_test,target_test)*100,2)),\"%\")\n",
    "\n",
    "Y_pred=rf.predict(x_test)\n",
    "\n",
    "error_rf = mean_absolute_error(target_test,Y_pred)\n",
    "\n",
    "print(\" Mean squared  error is \" , mean_squared_error(target_test,Y_pred))\n",
    "print(\" Median absolute error is \" ,median_absolute_error(target_test,Y_pred)) \n",
    "acc_rf = round(accuracy_score(target_test,Y_pred)*100,2)"
   ]
  },
  {
   "cell_type": "markdown",
   "id": "7042c22e",
   "metadata": {},
   "source": [
    "## Model 4 : XGB Classifier\n",
    "XGBoost stands for “Extreme Gradient Boosting”. XGBoost is an optimized distributed gradient boosting library designed to be highly efficient, flexible and portable.\n",
    "XGBoost is an extension to gradient boosted decision trees (GBM) and specially designed to improve speed and performance."
   ]
  },
  {
   "cell_type": "code",
   "execution_count": 990,
   "id": "ebce7d79",
   "metadata": {
    "scrolled": false
   },
   "outputs": [
    {
     "name": "stdout",
     "output_type": "stream",
     "text": [
      "[23:43:52] WARNING: C:/Users/Administrator/workspace/xgboost-win64_release_1.5.1/src/learner.cc:1115: Starting in XGBoost 1.3.0, the default evaluation metric used with the objective 'binary:logistic' was changed from 'error' to 'logloss'. Explicitly set eval_metric if you'd like to restore the old behavior.\n",
      "Score the x-train with target-train is :  91.76 %\n",
      "Score the x-test  with target-test  is :  67.35 %\n",
      " Mean squared  error is  0.3265454545454545\n",
      " Median absolute error is  0.0\n"
     ]
    }
   ],
   "source": [
    "xg= XGBClassifier(random_state=92)\n",
    "\n",
    "xg.fit(x_train,target_train)\n",
    "\n",
    "print(\"Score the x-train with target-train is : \", str(round(xg.score(x_train,target_train)*100,2)),\"%\")\n",
    "print(\"Score the x-test  with target-test  is : \", str(round(xg.score(x_test,target_test)*100,2)),\"%\")\n",
    "\n",
    "Y_pred=xg.predict(x_test)\n",
    "\n",
    "error_xg = mean_absolute_error(target_test,Y_pred)\n",
    "print(\" Mean squared  error is \" , mean_squared_error(target_test,Y_pred))\n",
    "print(\" Median absolute error is \" ,median_absolute_error(target_test,Y_pred)) \n",
    "\n",
    "acc_xg = round(accuracy_score(target_test,Y_pred)*100,2)"
   ]
  },
  {
   "cell_type": "markdown",
   "id": "b3fafe62",
   "metadata": {},
   "source": [
    "## Model 5 : SupportVector Classification\n",
    "Here the model using Support Vector Machines which are supervised learning models with associated learning algorithms that analyze data used for classification and regression analysis. Given a set of training samples, each marked as belonging to one or the other of two categories, an SVM training algorithm builds a model that assigns new test samples to one category or the other, making it a non-probabilistic binary linear classifier.\n",
    "\n"
   ]
  },
  {
   "cell_type": "code",
   "execution_count": 991,
   "id": "99a5aea0",
   "metadata": {},
   "outputs": [
    {
     "name": "stdout",
     "output_type": "stream",
     "text": [
      "Score the x-train with target-train is :  65.81 %\n",
      "Score the x-test  with target-test  is :  67.27 %\n",
      " Mean squared  error is  0.32727272727272727\n",
      " Median absolute error is  0.0\n"
     ]
    }
   ],
   "source": [
    "svc = SVC()\n",
    "\n",
    "svc.fit(x_train,target_train)\n",
    "\n",
    "print(\"Score the x-train with target-train is : \", str(round(svc.score(x_train,target_train)*100,2)),\"%\")\n",
    "print(\"Score the x-test  with target-test  is : \", str(round(svc.score(x_test,target_test)*100,2)),\"%\")\n",
    "\n",
    "Y_pred=svc.predict(x_test)\n",
    "\n",
    "error_svc = mean_absolute_error(target_test,Y_pred)\n",
    "print(\" Mean squared  error is \" , mean_squared_error(target_test,Y_pred))\n",
    "print(\" Median absolute error is \" ,median_absolute_error(target_test,Y_pred)) \n",
    "\n",
    "acc_svc = round(accuracy_score(target_test,Y_pred)*100,2)"
   ]
  },
  {
   "cell_type": "markdown",
   "id": "65b56efc",
   "metadata": {},
   "source": [
    "## Model 6 : KNeighbors Classifier\n",
    "In pattern recognition, the k-Nearest Neighbors algorithm (or k-NN for short) is a non-parametric method used for classification and regression. A sample is classified by a majority vote of its neighbors, with the sample being assigned to the class most common among its k nearest neighbors (k is a positive integer, typically small). If k = 1, then the object is simply assigned to the class of that single nearest neighbor. \n"
   ]
  },
  {
   "cell_type": "code",
   "execution_count": 992,
   "id": "f6a9a21f",
   "metadata": {
    "scrolled": true
   },
   "outputs": [
    {
     "name": "stdout",
     "output_type": "stream",
     "text": [
      "Score the x-train with target-train is :  78.09 %\n",
      "Score the x-test  with target-test  is :  64.8 %\n",
      " Mean absolute error is  0.352\n",
      " Median absolute error is  0.0\n"
     ]
    }
   ],
   "source": [
    "knn = KNeighborsClassifier()\n",
    "\n",
    "knn.fit(x_train,target_train)\n",
    "\n",
    "print(\"Score the x-train with target-train is : \", str(round(knn.score(x_train,target_train)*100,2)),\"%\")\n",
    "print(\"Score the x-test  with target-test  is : \", str(round(knn.score(x_test,target_test)*100,2)),\"%\")\n",
    "\n",
    "Y_pred=knn.predict(x_test)\n",
    "\n",
    "error_knn = mean_absolute_error(target_test,Y_pred)\n",
    "print( \" Mean absolute error is \",mean_squared_error(target_test,Y_pred))\n",
    "print(\" Median absolute error is \" ,median_absolute_error(target_test,Y_pred)) \n",
    "\n",
    "acc_knn = round(accuracy_score(target_test,Y_pred)*100,2)"
   ]
  },
  {
   "cell_type": "markdown",
   "id": "c2321954",
   "metadata": {},
   "source": [
    "## Inferences:\n",
    "We have a stable model as Model No. 1 Where the model confidence score is the highest among other models evaluated and Mean\n",
    "absolute error values are below 30%. We will select Model 1 as our final model.\n",
    "\n"
   ]
  },
  {
   "cell_type": "markdown",
   "id": "9a7cdfe9",
   "metadata": {},
   "source": [
    "## Model evaluation\n",
    "We can now rank our evaluation of all the models to choose the best one for our problem. While Gradient Boosting Classifier\n",
    "gives the highest score and less mean absolute error compare to other models, so we choose to use GradientBoosting.\n",
    "\n",
    "\n"
   ]
  },
  {
   "cell_type": "code",
   "execution_count": 993,
   "id": "983e9602",
   "metadata": {},
   "outputs": [
    {
     "data": {
      "text/html": [
       "<div>\n",
       "<style scoped>\n",
       "    .dataframe tbody tr th:only-of-type {\n",
       "        vertical-align: middle;\n",
       "    }\n",
       "\n",
       "    .dataframe tbody tr th {\n",
       "        vertical-align: top;\n",
       "    }\n",
       "\n",
       "    .dataframe thead th {\n",
       "        text-align: right;\n",
       "    }\n",
       "</style>\n",
       "<table border=\"1\" class=\"dataframe\">\n",
       "  <thead>\n",
       "    <tr style=\"text-align: right;\">\n",
       "      <th></th>\n",
       "      <th>Model</th>\n",
       "      <th>Score</th>\n",
       "      <th>mean_absolute_error</th>\n",
       "    </tr>\n",
       "  </thead>\n",
       "  <tbody>\n",
       "    <tr>\n",
       "      <th>0</th>\n",
       "      <td>GradientBoosting</td>\n",
       "      <td>70.25</td>\n",
       "      <td>0.297455</td>\n",
       "    </tr>\n",
       "    <tr>\n",
       "      <th>3</th>\n",
       "      <td>XGB Classifier</td>\n",
       "      <td>67.35</td>\n",
       "      <td>0.326545</td>\n",
       "    </tr>\n",
       "    <tr>\n",
       "      <th>4</th>\n",
       "      <td>Support Vector Machines</td>\n",
       "      <td>67.27</td>\n",
       "      <td>0.327273</td>\n",
       "    </tr>\n",
       "    <tr>\n",
       "      <th>2</th>\n",
       "      <td>Random Forest</td>\n",
       "      <td>67.24</td>\n",
       "      <td>0.327636</td>\n",
       "    </tr>\n",
       "    <tr>\n",
       "      <th>5</th>\n",
       "      <td>KNN</td>\n",
       "      <td>64.80</td>\n",
       "      <td>0.352000</td>\n",
       "    </tr>\n",
       "    <tr>\n",
       "      <th>1</th>\n",
       "      <td>Logistic Regression</td>\n",
       "      <td>63.35</td>\n",
       "      <td>0.366545</td>\n",
       "    </tr>\n",
       "  </tbody>\n",
       "</table>\n",
       "</div>"
      ],
      "text/plain": [
       "                     Model  Score  mean_absolute_error\n",
       "0         GradientBoosting  70.25             0.297455\n",
       "3           XGB Classifier  67.35             0.326545\n",
       "4  Support Vector Machines  67.27             0.327273\n",
       "2            Random Forest  67.24             0.327636\n",
       "5                      KNN  64.80             0.352000\n",
       "1      Logistic Regression  63.35             0.366545"
      ]
     },
     "execution_count": 993,
     "metadata": {},
     "output_type": "execute_result"
    }
   ],
   "source": [
    "models = pd.DataFrame({\n",
    "    'Model': ['GradientBoosting','Logistic Regression','Random Forest',\n",
    "               'XGB Classifier','Support Vector Machines', 'KNN',],\n",
    "    'Score': [acc_gb, acc_lr, acc_rf, \n",
    "              acc_xg, acc_svc, acc_knn,] ,\n",
    "    'mean_absolute_error' : [error_gb, error_lr, error_rf,\n",
    "                            error_xg,\n",
    "                            error_svc, error_knn]})\n",
    "models.sort_values(by=['Score','mean_absolute_error'], ascending=False)"
   ]
  }
 ],
 "metadata": {
  "kernelspec": {
   "display_name": "Python 3",
   "language": "python",
   "name": "python3"
  },
  "language_info": {
   "codemirror_mode": {
    "name": "ipython",
    "version": 3
   },
   "file_extension": ".py",
   "mimetype": "text/x-python",
   "name": "python",
   "nbconvert_exporter": "python",
   "pygments_lexer": "ipython3",
   "version": "3.8.8"
  }
 },
 "nbformat": 4,
 "nbformat_minor": 5
}
